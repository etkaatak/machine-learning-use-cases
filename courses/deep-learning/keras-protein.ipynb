{
 "cells": [
  {
   "cell_type": "markdown",
   "metadata": {},
   "source": [
    "### Protein classification keras"
   ]
  },
  {
   "cell_type": "code",
   "execution_count": 1,
   "metadata": {},
   "outputs": [],
   "source": [
    "import numpy as np\n",
    "import json\n",
    "import os "
   ]
  },
  {
   "cell_type": "markdown",
   "metadata": {},
   "source": [
    "We take the already labeled fastafiles into txt, we do have 2 cathegories, 1 if the protein exhibit the behaviour of ATP-inding"
   ]
  },
  {
   "cell_type": "code",
   "execution_count": 2,
   "metadata": {},
   "outputs": [],
   "source": [
    "sequences_file = os.path.join('..','..','..','data', 'protein-seqs-2018-01-16-131956.txt')\n",
    "functions_file = os.path.join('..','..','..','data', 'protein-functions-2018-01-16-131956.txt')"
   ]
  },
  {
   "cell_type": "code",
   "execution_count": 3,
   "metadata": {},
   "outputs": [],
   "source": [
    "with open(functions_file) as fn_file:\n",
    "    has_function = json.load(fn_file)"
   ]
  },
  {
   "cell_type": "code",
   "execution_count": 4,
   "metadata": {},
   "outputs": [],
   "source": [
    "#has_function  # just to see what we have loaded "
   ]
  },
  {
   "cell_type": "code",
   "execution_count": 8,
   "metadata": {},
   "outputs": [],
   "source": [
    "max_sequence_size = 500   # any sequence longer than this, we ignore (just for now) "
   ]
  },
  {
   "cell_type": "code",
   "execution_count": 5,
   "metadata": {},
   "outputs": [],
   "source": [
    "X = []           # sequences in the same order corresponding to elements of p \n",
    "y = []           # output class: 1 if protein has the function, 0 if not "
   ]
  },
  {
   "cell_type": "code",
   "execution_count": 6,
   "metadata": {},
   "outputs": [],
   "source": [
    "# for seeing how many examples we've found for each class \n",
    "pos_examples = 0\n",
    "neg_examples = 0   "
   ]
  },
  {
   "cell_type": "code",
   "execution_count": 9,
   "metadata": {},
   "outputs": [
    {
     "name": "stdout",
     "output_type": "stream",
     "text": [
      "P27361,MAAAAAQGGGGGEPRRTEGVGPGVPGEVEMVKGQPFDVGPRYTQLQYIGEGAYGMVSSAYDHVRKTRVAIKKISPFEHQTYCQRTLREIQILLRFRHENVIGIRDILRASTLEAMRDVYIVQDLMETDLYKLLKSQQLSNDHICYFLYQILRGLKYIHSANVLHRDLKPSNLLINTTCDLKICDFGLARIADPEHDHTGFLTEYVATRWYRAPEIMLNSKGYTKSIDIWSVGCILAEMLSNRPIFPGKHYLDQLNHILGILGSPSQEDLNCIINMKARNYLQSLPSKTKVAWAKLFPKSDSKALDLLDRMLTFNPNKRITVEEALAHPYLEQYYDPTDEPVAEEPFTFAMELDDLPKERLKELIFQETARFQPGVLEAP\n",
      "\n",
      "P53779,MSLHFLYYCSEPTLDVKIAFCQGFDKQVDVSYIAKHYNMSKSKVDNQFYSVEVGDSTFTVLKRYQNLKPIGSGAQGIVCAAYDAVLDRNVAIKKLSRPFQNQTHAKRAYRELVLMKCVNHKNIISLLNVFTPQKTLEEFQDVYLVMELMDANLCQVIQMELDHERMSYLLYQMLCGIKHLHSAGIIHRDLKPSNIVVKSDCTLKILDFGLARTAGTSFMMTPYVVTRYYRAPEVILGMGYKENVDIWSVGCIMGEMVRHKILFPGRDYIDQWNKVIEQLGTPCPEFMKKLQPTVRNYVENRPKYAGLTFPKLFPDSLFPADSEHNKLKASQARDLLSKMLVIDPAKRISVDDALQHPYINVWYDPAEVEAPPPQIYDKQLDEREHTIEEWKELIYKEVMNSEEKTKNGVVKGQPSPSGAAVNSSESLPPSSSVNDISSMSTDQTLASDTDSSLEASAGPLGCCR\n",
      "\n",
      "Q15049,MTQEPFREELAYDRMPTLERGRQDPASYAPDAKPSDLQLSKRLPPCFSHKTWVFSVLMGSCLLVTSGFSLYLGNVFPAEMDYLRCAAGSCIPSAIVSFTVSRRNANVIPNFQILFVSTFAVTTTCLIWFGCKLVLNPSAININFNLILLLLLELLMAATVIIAARSSEEDCKKKKGSMSDSANILDEVPFPARVLKSYSVVEVIAGISAVLGGIIALNVDDSVSGPHLSVTFFWILVACFPSAIASHVAAECPSKCLVEVLIAISSLTSPLLFTASGYLSFSIMRIVEMFKDYPPAIKPSYDVLLLLLLLVLLLQAGLNTGTAIQCVRFKVSARLQGASWDTQNGPQERLAGEVARSPLKEFDKEKAWRAVVVQMAQ\n",
      "\n",
      "P0DMT0,MTGKNWILISTTTPKSLEDEIVGRLLKILFVIFVDLISIIYVVITS\n",
      "\n",
      "Q7L9L4,MSFLFGSRSSKTFKPKKNIPEGSHQYELLKHAEATLGSGNLRMAVMLPEGEDLNEWVAVNTVDFFNQINMLYGTITDFCTEESCPVMSAGPKYEYHWADGTNIKKPIKCSAPKYIDYLMTWVQDQLDDETLFPSKIGVPFPKNFMSVAKTILKRLFRVYAHIYHQHFDPVIQLQEEAHLNTSFKHFIFFVQEFNLIDRRELAPLQELIEKLTSKDR\n",
      "\n",
      "Q86TA1,MSIALKQVFNKDKTFRPKRKFEPGTQRFELHKRAQASLNSGVDLKAAVQLPSGEDQNDWVAVHVVDFFNRINLIYGTICEFCTERTCPVMSGGPKYEYRWQDDLKYKKPTALPAPQYMNLLMDWIEVQINNEEIFPTCVGVPFPKNFLQICKKILCRLFRVFVHVYIHHFDRVIVMGAEAHVNTCYKHFYYFVTEMNLIDRKELEPLKEMTSRMCH\n",
      "\n",
      "Q86TA1,MSIALKQVFNKDKTFRPKRKFEPGTQRFELHKRAQASLNSGVDLKAAVQLPSGEDQNDWVAVHVVDFFNRINLIYGTICEFCTERTCPVMSGGPKYEYRWQDDLKYKKPTALPAPQYMNLLMDWIEVQINNEEIFPTCVGVPFPKNFLQICKKILCRLFRVFVHVYIHHFDRVIVMGAEAHVNTCYKHFYYFVTEMNLIDRKELEPLKEMTSRMCH\n",
      "\n"
     ]
    }
   ],
   "source": [
    "with open(sequences_file) as f:\n",
    "    for line in f:\n",
    "        ln = line.split(',')\n",
    "        protein_id = ln[0].strip()\n",
    "        seq = ln[1].strip()\n",
    "\n",
    "        # we're doing this to reduce input size\n",
    "        if len(seq) >= max_sequence_size:\n",
    "            continue\n",
    "        \n",
    "        print(line)\n",
    "        \n",
    "        X.append(seq)\n",
    "        \n",
    "        if protein_id in has_function: \n",
    "            y.append(1) \n",
    "            pos_examples += 1 \n",
    "        else: \n",
    "            y.append(0) \n",
    "            neg_examples += 1 "
   ]
  },
  {
   "cell_type": "code",
   "execution_count": 10,
   "metadata": {},
   "outputs": [
    {
     "name": "stdout",
     "output_type": "stream",
     "text": [
      "Positive Examples: 2\n",
      "Negative Examples: 5\n"
     ]
    }
   ],
   "source": [
    "print(\"Positive Examples: %d\" % pos_examples)\n",
    "print(\"Negative Examples: %d\" % neg_examples)  # Total is different because we ignored longer sequences "
   ]
  },
  {
   "cell_type": "code",
   "execution_count": 11,
   "metadata": {},
   "outputs": [],
   "source": [
    "def sequence_to_indices(sequence):\n",
    "    \"\"\"Convert amino acid letters to indices. \n",
    "       _ means no amino acid (used for padding to accommodate for variable length)\"\"\"\n",
    "    \n",
    "    try:\n",
    "        acid_letters = ['_', 'A', 'C', 'D', 'E', 'F', 'G', 'H', 'I', 'K', 'L', 'M',\n",
    "                'N', 'P', 'Q', 'R', 'S', 'T', 'U', 'V', 'W', 'X', 'Y']\n",
    "\n",
    "        indices = [acid_letters.index(c) for c in list(sequence)]\n",
    "        return indices\n",
    "    except Exception:\n",
    "        print(sequence)\n",
    "        raise Exception"
   ]
  },
  {
   "cell_type": "code",
   "execution_count": 12,
   "metadata": {},
   "outputs": [
    {
     "data": {
      "text/plain": [
       "[1, 3]"
      ]
     },
     "execution_count": 12,
     "metadata": {},
     "output_type": "execute_result"
    }
   ],
   "source": [
    "sequence_to_indices('AD')  # just testing "
   ]
  },
  {
   "cell_type": "code",
   "execution_count": 13,
   "metadata": {},
   "outputs": [],
   "source": [
    "X_all = [] \n",
    "for i in range(len(X)): \n",
    "    x = sequence_to_indices(X[i])\n",
    "    X_all.append(x) \n",
    "    "
   ]
  },
  {
   "cell_type": "code",
   "execution_count": 14,
   "metadata": {},
   "outputs": [],
   "source": [
    "X_all = np.array(X_all)\n",
    "y_all = np.array(y)"
   ]
  },
  {
   "cell_type": "code",
   "execution_count": 15,
   "metadata": {},
   "outputs": [
    {
     "name": "stdout",
     "output_type": "stream",
     "text": [
      "1\n",
      "[11, 1, 1, 1, 1, 1, 14, 6, 6, 6, 6, 6, 4, 13, 15, 15, 17, 4, 6, 19, 6, 13, 6, 19, 13, 6, 4, 19, 4, 11, 19, 9, 6, 14, 13, 5, 3, 19, 6, 13, 15, 22, 17, 14, 10, 14, 22, 8, 6, 4, 6, 1, 22, 6, 11, 19, 16, 16, 1, 22, 3, 7, 19, 15, 9, 17, 15, 19, 1, 8, 9, 9, 8, 16, 13, 5, 4, 7, 14, 17, 22, 2, 14, 15, 17, 10, 15, 4, 8, 14, 8, 10, 10, 15, 5, 15, 7, 4, 12, 19, 8, 6, 8, 15, 3, 8, 10, 15, 1, 16, 17, 10, 4, 1, 11, 15, 3, 19, 22, 8, 19, 14, 3, 10, 11, 4, 17, 3, 10, 22, 9, 10, 10, 9, 16, 14, 14, 10, 16, 12, 3, 7, 8, 2, 22, 5, 10, 22, 14, 8, 10, 15, 6, 10, 9, 22, 8, 7, 16, 1, 12, 19, 10, 7, 15, 3, 10, 9, 13, 16, 12, 10, 10, 8, 12, 17, 17, 2, 3, 10, 9, 8, 2, 3, 5, 6, 10, 1, 15, 8, 1, 3, 13, 4, 7, 3, 7, 17, 6, 5, 10, 17, 4, 22, 19, 1, 17, 15, 20, 22, 15, 1, 13, 4, 8, 11, 10, 12, 16, 9, 6, 22, 17, 9, 16, 8, 3, 8, 20, 16, 19, 6, 2, 8, 10, 1, 4, 11, 10, 16, 12, 15, 13, 8, 5, 13, 6, 9, 7, 22, 10, 3, 14, 10, 12, 7, 8, 10, 6, 8, 10, 6, 16, 13, 16, 14, 4, 3, 10, 12, 2, 8, 8, 12, 11, 9, 1, 15, 12, 22, 10, 14, 16, 10, 13, 16, 9, 17, 9, 19, 1, 20, 1, 9, 10, 5, 13, 9, 16, 3, 16, 9, 1, 10, 3, 10, 10, 3, 15, 11, 10, 17, 5, 12, 13, 12, 9, 15, 8, 17, 19, 4, 4, 1, 10, 1, 7, 13, 22, 10, 4, 14, 22, 22, 3, 13, 17, 3, 4, 13, 19, 1, 4, 4, 13, 5, 17, 5, 1, 11, 4, 10, 3, 3, 10, 13, 9, 4, 15, 10, 9, 4, 10, 8, 5, 14, 4, 17, 1, 15, 5, 14, 13, 6, 19, 10, 4, 1, 13]\n",
      "379\n"
     ]
    }
   ],
   "source": [
    "print(y[0]) # category\n",
    "print(X_all[0]) #order of the letter in the alphabet asigned to the aminoacids, A = 1\n",
    "print(len(X_all[0])) #sequence size"
   ]
  },
  {
   "cell_type": "markdown",
   "metadata": {},
   "source": [
    "This is a keras trick  o overcome the variable length issue, so all data points will have the same lenght (just as the pixels in images"
   ]
  },
  {
   "cell_type": "code",
   "execution_count": 17,
   "metadata": {},
   "outputs": [],
   "source": [
    "from keras.preprocessing import sequence"
   ]
  },
  {
   "cell_type": "code",
   "execution_count": 18,
   "metadata": {},
   "outputs": [],
   "source": [
    "X_all = sequence.pad_sequences(X_all, maxlen=max_sequence_size)"
   ]
  },
  {
   "cell_type": "markdown",
   "metadata": {},
   "source": [
    "### Now we need to split the data "
   ]
  },
  {
   "cell_type": "code",
   "execution_count": 19,
   "metadata": {},
   "outputs": [
    {
     "name": "stdout",
     "output_type": "stream",
     "text": [
      "(7, 500)\n",
      "(7,)\n"
     ]
    }
   ],
   "source": [
    "print(X_all.shape)  # extremely important that you view this! \n",
    "print(y_all.shape)  # make sure you are comfortable with shapes! "
   ]
  },
  {
   "cell_type": "markdown",
   "metadata": {},
   "source": [
    "We'll do a basic shuffle and 66%, 33% split. "
   ]
  },
  {
   "cell_type": "code",
   "execution_count": 20,
   "metadata": {},
   "outputs": [],
   "source": [
    "n = X_all.shape[0]  # number of data points "
   ]
  },
  {
   "cell_type": "code",
   "execution_count": 21,
   "metadata": {},
   "outputs": [],
   "source": [
    "# randomize to shuffle first\n",
    "randomize = np.arange(n)\n",
    "np.random.shuffle(randomize)"
   ]
  },
  {
   "cell_type": "code",
   "execution_count": 22,
   "metadata": {},
   "outputs": [
    {
     "data": {
      "text/plain": [
       "array([4, 1, 0, 5, 3, 6, 2])"
      ]
     },
     "execution_count": 22,
     "metadata": {},
     "output_type": "execute_result"
    }
   ],
   "source": [
    "# creating an array  with the indexes shuffled (this is the manual of train-test split)\n",
    "randomize"
   ]
  },
  {
   "cell_type": "code",
   "execution_count": 23,
   "metadata": {},
   "outputs": [],
   "source": [
    "X_all = X_all[randomize]\n",
    "y_all = y_all[randomize]"
   ]
  },
  {
   "cell_type": "code",
   "execution_count": 24,
   "metadata": {},
   "outputs": [],
   "source": [
    "#they are shuffled already\n",
    "test_split = round(n * 2 / 3)\n",
    "X_train = X_all[:test_split]   # start to (just before) test_split \n",
    "y_train = y_all[:test_split]   \n",
    "X_test  = X_all[test_split:]   # test_split to end \n",
    "y_test  = y_all[test_split:]"
   ]
  },
  {
   "cell_type": "code",
   "execution_count": 25,
   "metadata": {},
   "outputs": [
    {
     "name": "stdout",
     "output_type": "stream",
     "text": [
      "(5, 500)\n",
      "(5,)\n",
      "(2, 500)\n",
      "(2,)\n"
     ]
    }
   ],
   "source": [
    "# Print shapes again \n",
    "print(X_train.shape)\n",
    "print(y_train.shape)\n",
    "print(X_test.shape)\n",
    "print(y_test.shape)"
   ]
  },
  {
   "cell_type": "markdown",
   "metadata": {},
   "source": [
    "### Understanding the Shapes "
   ]
  },
  {
   "cell_type": "code",
   "execution_count": 26,
   "metadata": {},
   "outputs": [
    {
     "data": {
      "text/plain": [
       "'     [  .  .  .  .  .  5 ]         Initial shape: (5, )   '"
      ]
     },
     "execution_count": 26,
     "metadata": {},
     "output_type": "execute_result"
    }
   ],
   "source": [
    "\"     [  .  .  .  .  .  5 ]         Initial shape: (5, )   \"\n"
   ]
  },
  {
   "cell_type": "code",
   "execution_count": 27,
   "metadata": {},
   "outputs": [
    {
     "data": {
      "text/plain": [
       "'     [ [. . . . . . . . 500 ]    []   []   []   []  ]      Shape is now: (5, 500)'"
      ]
     },
     "execution_count": 27,
     "metadata": {},
     "output_type": "execute_result"
    }
   ],
   "source": [
    "\"     [ [. . . . . . . . 500 ]    []   []   []   []  ]      Shape is now: (5, 500)\""
   ]
  },
  {
   "cell_type": "code",
   "execution_count": 28,
   "metadata": {},
   "outputs": [
    {
     "data": {
      "text/plain": [
       "' \\n[ [\\n    [0,0,0,0,0,0 ....1,...0,0,0]\\n   [. . . . . . . . . . 23]             (where 23 is the number of amino acids)\\n    . \\n    .\\n    .\\n    500 \\n  ]    \\n  []   \\n  []   \\n  []   \\n  []  \\n  ] \\n  \\n  So, the final shape will be: (5, 500, 23)\\n'"
      ]
     },
     "execution_count": 28,
     "metadata": {},
     "output_type": "execute_result"
    }
   ],
   "source": [
    "# This, when converted to one-hot representation becomes: \n",
    "\n",
    "\"\"\" \n",
    "[ [\n",
    "    [0,0,0,0,0,0 ....1,...0,0,0]\n",
    "   [. . . . . . . . . . 23]             (where 23 is the number of amino acids)\n",
    "    . \n",
    "    .\n",
    "    .\n",
    "    500 \n",
    "  ]    \n",
    "  []   \n",
    "  []   \n",
    "  []   \n",
    "  []  \n",
    "  ] \n",
    "  \n",
    "  So, the final shape will be: (5, 500, 23)\n",
    "\"\"\""
   ]
  },
  {
   "cell_type": "markdown",
   "metadata": {},
   "source": [
    "### Configuration of the model"
   ]
  },
  {
   "cell_type": "code",
   "execution_count": 29,
   "metadata": {},
   "outputs": [],
   "source": [
    "from keras.layers import Embedding, Input, Dropout, Flatten, Dense, Activation\n",
    "from keras.models import Model, Sequential\n",
    "from keras.optimizers import SGD"
   ]
  },
  {
   "cell_type": "code",
   "execution_count": 30,
   "metadata": {},
   "outputs": [],
   "source": [
    "num_amino_acids = 23 \n",
    "embedding_dims = 10 \n",
    "nb_epoch = 2\n",
    "batch_size = 2"
   ]
  },
  {
   "cell_type": "markdown",
   "metadata": {},
   "source": [
    "It's no need to construct the whole model at once, we can start with an Embedding layer, where  \n",
    "Input shape: \n",
    "2D tensor with shape: (batch_size, sequence_length).  \n",
    "Output shape: \n",
    "3D tensor with shape: (batch_size, sequence_length, output_dim)."
   ]
  },
  {
   "cell_type": "code",
   "execution_count": 31,
   "metadata": {},
   "outputs": [],
   "source": [
    "model = Sequential() \n",
    "model.add(Embedding(num_amino_acids, embedding_dims, input_length=max_sequence_size  ))"
   ]
  },
  {
   "cell_type": "code",
   "execution_count": 32,
   "metadata": {},
   "outputs": [
    {
     "name": "stdout",
     "output_type": "stream",
     "text": [
      "_________________________________________________________________\n",
      "Layer (type)                 Output Shape              Param #   \n",
      "=================================================================\n",
      "embedding_1 (Embedding)      (None, 500, 10)           230       \n",
      "=================================================================\n",
      "Total params: 230\n",
      "Trainable params: 230\n",
      "Non-trainable params: 0\n",
      "_________________________________________________________________\n"
     ]
    }
   ],
   "source": [
    "model.summary()"
   ]
  },
  {
   "cell_type": "code",
   "execution_count": null,
   "metadata": {},
   "outputs": [],
   "source": []
  },
  {
   "cell_type": "code",
   "execution_count": 39,
   "metadata": {},
   "outputs": [],
   "source": [
    "model = Sequential() \n",
    "model.add(Embedding(num_amino_acids, embedding_dims, input_length=max_sequence_size  ))\n",
    "model.add(Flatten()) #after the embedding, since we are trying to go from 3 dimensions to 2\n",
    "model.add(Dense(25, activation='sigmoid'))\n",
    "model.add(Dense(1, activation='sigmoid'))"
   ]
  },
  {
   "cell_type": "code",
   "execution_count": 40,
   "metadata": {},
   "outputs": [
    {
     "name": "stdout",
     "output_type": "stream",
     "text": [
      "_________________________________________________________________\n",
      "Layer (type)                 Output Shape              Param #   \n",
      "=================================================================\n",
      "embedding_3 (Embedding)      (None, 500, 10)           230       \n",
      "_________________________________________________________________\n",
      "flatten_1 (Flatten)          (None, 5000)              0         \n",
      "_________________________________________________________________\n",
      "dense_3 (Dense)              (None, 25)                125025    \n",
      "_________________________________________________________________\n",
      "dense_4 (Dense)              (None, 1)                 26        \n",
      "=================================================================\n",
      "Total params: 125,281\n",
      "Trainable params: 125,281\n",
      "Non-trainable params: 0\n",
      "_________________________________________________________________\n"
     ]
    }
   ],
   "source": [
    "model.summary()"
   ]
  },
  {
   "cell_type": "code",
   "execution_count": 41,
   "metadata": {},
   "outputs": [],
   "source": [
    "model.compile(loss='binary_crossentropy',\n",
    "              optimizer=SGD(),\n",
    "metrics=['accuracy'])"
   ]
  },
  {
   "cell_type": "code",
   "execution_count": 43,
   "metadata": {},
   "outputs": [
    {
     "name": "stdout",
     "output_type": "stream",
     "text": [
      "Train on 5 samples, validate on 2 samples\n",
      "Epoch 1/2\n",
      "5/5 [==============================] - 0s 43ms/step - loss: 0.6916 - acc: 0.6000 - val_loss: 0.3668 - val_acc: 1.0000\n",
      "Epoch 2/2\n",
      "5/5 [==============================] - 0s 2ms/step - loss: 0.6928 - acc: 0.6000 - val_loss: 0.3799 - val_acc: 1.0000\n"
     ]
    }
   ],
   "source": [
    "hist = model.fit(X_train, y_train,\n",
    "                  batch_size = batch_size,\n",
    "                  epochs = nb_epoch, \n",
    "                  validation_data = (X_test, y_test),\n",
    "                  verbose=1)   "
   ]
  },
  {
   "cell_type": "code",
   "execution_count": null,
   "metadata": {},
   "outputs": [],
   "source": []
  },
  {
   "cell_type": "markdown",
   "metadata": {},
   "source": [
    "### Changing to the Functional API "
   ]
  },
  {
   "cell_type": "markdown",
   "metadata": {},
   "source": [
    "We define the hyperparameters for us to can access in a clever way, from the module, from keras.layers import..."
   ]
  },
  {
   "cell_type": "code",
   "execution_count": 48,
   "metadata": {},
   "outputs": [],
   "source": [
    "input = Input(shape=(max_sequence_size,))"
   ]
  },
  {
   "cell_type": "code",
   "execution_count": 49,
   "metadata": {},
   "outputs": [],
   "source": [
    "embedding = Embedding(num_amino_acids, embedding_dims)(input)"
   ]
  },
  {
   "cell_type": "code",
   "execution_count": 50,
   "metadata": {},
   "outputs": [
    {
     "data": {
      "text/plain": [
       "<tf.Tensor 'embedding_4/GatherV2:0' shape=(?, 500, 10) dtype=float32>"
      ]
     },
     "execution_count": 50,
     "metadata": {},
     "output_type": "execute_result"
    }
   ],
   "source": [
    "embedding"
   ]
  },
  {
   "cell_type": "code",
   "execution_count": 51,
   "metadata": {},
   "outputs": [],
   "source": [
    "x = Flatten()(embedding)\n",
    "x = Dense(25, activation='sigmoid')(x)\n",
    "x = Dense(1)(x)"
   ]
  },
  {
   "cell_type": "code",
   "execution_count": 52,
   "metadata": {},
   "outputs": [],
   "source": [
    "output = Activation('sigmoid')(x)"
   ]
  },
  {
   "cell_type": "code",
   "execution_count": 53,
   "metadata": {},
   "outputs": [
    {
     "data": {
      "text/plain": [
       "<tf.Tensor 'activation_1/Sigmoid:0' shape=(?, 1) dtype=float32>"
      ]
     },
     "execution_count": 53,
     "metadata": {},
     "output_type": "execute_result"
    }
   ],
   "source": [
    "output"
   ]
  },
  {
   "cell_type": "markdown",
   "metadata": {},
   "source": [
    "Now the values of the network are parametrized, and it's even more powrful if we want to replicate it"
   ]
  },
  {
   "cell_type": "code",
   "execution_count": 54,
   "metadata": {},
   "outputs": [
    {
     "name": "stdout",
     "output_type": "stream",
     "text": [
      "_________________________________________________________________\n",
      "Layer (type)                 Output Shape              Param #   \n",
      "=================================================================\n",
      "input_2 (InputLayer)         (None, 500)               0         \n",
      "_________________________________________________________________\n",
      "embedding_4 (Embedding)      (None, 500, 10)           230       \n",
      "_________________________________________________________________\n",
      "flatten_2 (Flatten)          (None, 5000)              0         \n",
      "_________________________________________________________________\n",
      "dense_5 (Dense)              (None, 25)                125025    \n",
      "_________________________________________________________________\n",
      "dense_6 (Dense)              (None, 1)                 26        \n",
      "_________________________________________________________________\n",
      "activation_1 (Activation)    (None, 1)                 0         \n",
      "=================================================================\n",
      "Total params: 125,281\n",
      "Trainable params: 125,281\n",
      "Non-trainable params: 0\n",
      "_________________________________________________________________\n"
     ]
    }
   ],
   "source": [
    "model = Model([input], output)\n",
    "model.summary()"
   ]
  },
  {
   "cell_type": "code",
   "execution_count": null,
   "metadata": {},
   "outputs": [],
   "source": []
  },
  {
   "cell_type": "code",
   "execution_count": 55,
   "metadata": {},
   "outputs": [],
   "source": [
    "model.compile(loss='binary_crossentropy',\n",
    "              optimizer='adam',\n",
    "              metrics=['accuracy'])"
   ]
  },
  {
   "cell_type": "code",
   "execution_count": 56,
   "metadata": {},
   "outputs": [
    {
     "name": "stdout",
     "output_type": "stream",
     "text": [
      "Train on 5 samples, validate on 2 samples\n",
      "Epoch 1/2\n",
      "5/5 [==============================] - 0s 52ms/step - loss: 0.9080 - acc: 0.4000 - val_loss: 1.1804 - val_acc: 0.0000e+00\n",
      "Epoch 2/2\n",
      "5/5 [==============================] - 0s 2ms/step - loss: 0.7208 - acc: 0.4000 - val_loss: 0.9706 - val_acc: 0.0000e+00\n"
     ]
    }
   ],
   "source": [
    "hist = model.fit(X_train, y_train,\n",
    "                  batch_size = batch_size,\n",
    "                  epochs = nb_epoch, \n",
    "                  validation_data = (X_test, y_test),\n",
    "                  verbose=1)    "
   ]
  },
  {
   "cell_type": "code",
   "execution_count": 57,
   "metadata": {},
   "outputs": [
    {
     "data": {
      "text/plain": [
       "{'val_loss': [1.180354118347168, 0.9706324338912964],\n",
       " 'val_acc': [0.0, 0.0],\n",
       " 'loss': [0.9080349206924438, 0.7207675576210022],\n",
       " 'acc': [0.4, 0.4]}"
      ]
     },
     "execution_count": 57,
     "metadata": {},
     "output_type": "execute_result"
    }
   ],
   "source": [
    "hist.history"
   ]
  },
  {
   "cell_type": "code",
   "execution_count": null,
   "metadata": {},
   "outputs": [],
   "source": []
  }
 ],
 "metadata": {
  "kernelspec": {
   "display_name": "Python 3",
   "language": "python",
   "name": "python3"
  },
  "language_info": {
   "codemirror_mode": {
    "name": "ipython",
    "version": 3
   },
   "file_extension": ".py",
   "mimetype": "text/x-python",
   "name": "python",
   "nbconvert_exporter": "python",
   "pygments_lexer": "ipython3",
   "version": "3.6.5"
  }
 },
 "nbformat": 4,
 "nbformat_minor": 2
}
