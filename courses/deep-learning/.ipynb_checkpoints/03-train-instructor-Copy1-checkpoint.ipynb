{
 "cells": [
  {
   "cell_type": "markdown",
   "metadata": {},
   "source": [
    "### Protein classification keras"
   ]
  },
  {
   "cell_type": "code",
   "execution_count": 1,
   "metadata": {},
   "outputs": [],
   "source": [
    "from __future__ import print_function  "
   ]
  },
  {
   "cell_type": "code",
   "execution_count": 3,
   "metadata": {},
   "outputs": [],
   "source": [
    "import numpy as np\n",
    "import json\n",
    "import os \n",
    "\n",
    "from keras.preprocessing import sequence\n"
   ]
  },
  {
   "cell_type": "markdown",
   "metadata": {},
   "source": [
    "We take the already labeled fastafiles into txt, we do have 2 cathegories, 1 if the protein exhibit the behaviour of ATP-inding"
   ]
  },
  {
   "cell_type": "code",
   "execution_count": 4,
   "metadata": {},
   "outputs": [],
   "source": [
    "sequences_file = os.path.join('..', 'data', 'protein-seqs-2018-01-16-131956.txt')\n",
    "functions_file = os.path.join('..', 'data', 'protein-functions-2018-01-16-131956.txt')"
   ]
  },
  {
   "cell_type": "code",
   "execution_count": 5,
   "metadata": {},
   "outputs": [],
   "source": [
    "with open(functions_file) as fn_file:\n",
    "    has_function = json.load(fn_file)"
   ]
  },
  {
   "cell_type": "code",
   "execution_count": 7,
   "metadata": {},
   "outputs": [],
   "source": [
    "#has_function  # just to see what we have loaded "
   ]
  },
  {
   "cell_type": "code",
   "execution_count": 9,
   "metadata": {},
   "outputs": [],
   "source": [
    "X = []           # sequences in the same order corresponding to elements of p \n",
    "y = []           # output class: 1 if protein has the function, 0 if not "
   ]
  },
  {
   "cell_type": "code",
   "execution_count": 10,
   "metadata": {},
   "outputs": [],
   "source": [
    "# for seeing how many examples we've found for each class \n",
    "pos_examples = 0\n",
    "neg_examples = 0   "
   ]
  },
  {
   "cell_type": "code",
   "execution_count": 11,
   "metadata": {},
   "outputs": [
    {
     "name": "stdout",
     "output_type": "stream",
     "text": [
      "P27361,MAAAAAQGGGGGEPRRTEGVGPGVPGEVEMVKGQPFDVGPRYTQLQYIGEGAYGMVSSAYDHVRKTRVAIKKISPFEHQTYCQRTLREIQILLRFRHENVIGIRDILRASTLEAMRDVYIVQDLMETDLYKLLKSQQLSNDHICYFLYQILRGLKYIHSANVLHRDLKPSNLLINTTCDLKICDFGLARIADPEHDHTGFLTEYVATRWYRAPEIMLNSKGYTKSIDIWSVGCILAEMLSNRPIFPGKHYLDQLNHILGILGSPSQEDLNCIINMKARNYLQSLPSKTKVAWAKLFPKSDSKALDLLDRMLTFNPNKRITVEEALAHPYLEQYYDPTDEPVAEEPFTFAMELDDLPKERLKELIFQETARFQPGVLEAP\n",
      "\n",
      "P53779,MSLHFLYYCSEPTLDVKIAFCQGFDKQVDVSYIAKHYNMSKSKVDNQFYSVEVGDSTFTVLKRYQNLKPIGSGAQGIVCAAYDAVLDRNVAIKKLSRPFQNQTHAKRAYRELVLMKCVNHKNIISLLNVFTPQKTLEEFQDVYLVMELMDANLCQVIQMELDHERMSYLLYQMLCGIKHLHSAGIIHRDLKPSNIVVKSDCTLKILDFGLARTAGTSFMMTPYVVTRYYRAPEVILGMGYKENVDIWSVGCIMGEMVRHKILFPGRDYIDQWNKVIEQLGTPCPEFMKKLQPTVRNYVENRPKYAGLTFPKLFPDSLFPADSEHNKLKASQARDLLSKMLVIDPAKRISVDDALQHPYINVWYDPAEVEAPPPQIYDKQLDEREHTIEEWKELIYKEVMNSEEKTKNGVVKGQPSPSGAAVNSSESLPPSSSVNDISSMSTDQTLASDTDSSLEASAGPLGCCR\n",
      "\n",
      "Q15049,MTQEPFREELAYDRMPTLERGRQDPASYAPDAKPSDLQLSKRLPPCFSHKTWVFSVLMGSCLLVTSGFSLYLGNVFPAEMDYLRCAAGSCIPSAIVSFTVSRRNANVIPNFQILFVSTFAVTTTCLIWFGCKLVLNPSAININFNLILLLLLELLMAATVIIAARSSEEDCKKKKGSMSDSANILDEVPFPARVLKSYSVVEVIAGISAVLGGIIALNVDDSVSGPHLSVTFFWILVACFPSAIASHVAAECPSKCLVEVLIAISSLTSPLLFTASGYLSFSIMRIVEMFKDYPPAIKPSYDVLLLLLLLVLLLQAGLNTGTAIQCVRFKVSARLQGASWDTQNGPQERLAGEVARSPLKEFDKEKAWRAVVVQMAQ\n",
      "\n",
      "P0DMT0,MTGKNWILISTTTPKSLEDEIVGRLLKILFVIFVDLISIIYVVITS\n",
      "\n",
      "Q7L9L4,MSFLFGSRSSKTFKPKKNIPEGSHQYELLKHAEATLGSGNLRMAVMLPEGEDLNEWVAVNTVDFFNQINMLYGTITDFCTEESCPVMSAGPKYEYHWADGTNIKKPIKCSAPKYIDYLMTWVQDQLDDETLFPSKIGVPFPKNFMSVAKTILKRLFRVYAHIYHQHFDPVIQLQEEAHLNTSFKHFIFFVQEFNLIDRRELAPLQELIEKLTSKDR\n",
      "\n",
      "Q86TA1,MSIALKQVFNKDKTFRPKRKFEPGTQRFELHKRAQASLNSGVDLKAAVQLPSGEDQNDWVAVHVVDFFNRINLIYGTICEFCTERTCPVMSGGPKYEYRWQDDLKYKKPTALPAPQYMNLLMDWIEVQINNEEIFPTCVGVPFPKNFLQICKKILCRLFRVFVHVYIHHFDRVIVMGAEAHVNTCYKHFYYFVTEMNLIDRKELEPLKEMTSRMCH\n",
      "\n",
      "Q86TA1,MSIALKQVFNKDKTFRPKRKFEPGTQRFELHKRAQASLNSGVDLKAAVQLPSGEDQNDWVAVHVVDFFNRINLIYGTICEFCTERTCPVMSGGPKYEYRWQDDLKYKKPTALPAPQYMNLLMDWIEVQINNEEIFPTCVGVPFPKNFLQICKKILCRLFRVFVHVYIHHFDRVIVMGAEAHVNTCYKHFYYFVTEMNLIDRKELEPLKEMTSRMCH\n",
      "\n"
     ]
    }
   ],
   "source": [
    "with open(sequences_file) as f:\n",
    "    for line in f:\n",
    "        ln = line.split(',')\n",
    "        protein_id = ln[0].strip()\n",
    "        seq = ln[1].strip()\n",
    "\n",
    "        # we're doing this to reduce input size\n",
    "        if len(seq) >= max_sequence_size:\n",
    "            continue\n",
    "        \n",
    "        print(line)\n",
    "        \n",
    "        X.append(seq)\n",
    "        \n",
    "        if protein_id in has_function: \n",
    "            y.append(1) \n",
    "            pos_examples += 1 \n",
    "        else: \n",
    "            y.append(0) \n",
    "            neg_examples += 1 "
   ]
  },
  {
   "cell_type": "code",
   "execution_count": 12,
   "metadata": {},
   "outputs": [
    {
     "name": "stdout",
     "output_type": "stream",
     "text": [
      "Positive Examples: 2\n",
      "Negative Examples: 5\n"
     ]
    }
   ],
   "source": [
    "print(\"Positive Examples: %d\" % pos_examples)\n",
    "print(\"Negative Examples: %d\" % neg_examples)  # Total is different because we ignored longer sequences "
   ]
  },
  {
   "cell_type": "code",
   "execution_count": 13,
   "metadata": {},
   "outputs": [],
   "source": [
    "def sequence_to_indices(sequence):\n",
    "    \"\"\"Convert amino acid letters to indices. \n",
    "       _ means no amino acid (used for padding to accommodate for variable length)\"\"\"\n",
    "    \n",
    "    try:\n",
    "        acid_letters = ['_', 'A', 'C', 'D', 'E', 'F', 'G', 'H', 'I', 'K', 'L', 'M',\n",
    "                'N', 'P', 'Q', 'R', 'S', 'T', 'U', 'V', 'W', 'X', 'Y']\n",
    "\n",
    "        indices = [acid_letters.index(c) for c in list(sequence)]\n",
    "        return indices\n",
    "    except Exception:\n",
    "        print(sequence)\n",
    "        raise Exception"
   ]
  },
  {
   "cell_type": "code",
   "execution_count": 14,
   "metadata": {},
   "outputs": [
    {
     "data": {
      "text/plain": [
       "[1, 3]"
      ]
     },
     "execution_count": 14,
     "metadata": {},
     "output_type": "execute_result"
    }
   ],
   "source": [
    "sequence_to_indices('AD')  # just testing "
   ]
  },
  {
   "cell_type": "code",
   "execution_count": 15,
   "metadata": {},
   "outputs": [],
   "source": [
    "X_all = [] \n",
    "for i in range(len(X)): \n",
    "    x = sequence_to_indices(X[i])\n",
    "    X_all.append(x) \n",
    "    "
   ]
  },
  {
   "cell_type": "code",
   "execution_count": 16,
   "metadata": {},
   "outputs": [],
   "source": [
    "X_all = np.array(X_all)\n",
    "y_all = np.array(y)"
   ]
  },
  {
   "cell_type": "code",
   "execution_count": 45,
   "metadata": {},
   "outputs": [
    {
     "name": "stdout",
     "output_type": "stream",
     "text": [
      "1\n",
      "[ 0  0  0  0  0  0  0  0  0  0  0  0  0  0  0  0  0  0  0  0  0  0  0  0\n",
      "  0  0  0  0  0  0  0  0  0  0  0  0  0  0  0  0  0  0  0  0  0  0  0  0\n",
      "  0  0  0  0  0  0  0  0  0  0  0  0  0  0  0  0  0  0  0  0  0  0  0  0\n",
      "  0  0  0  0  0  0  0  0  0  0  0  0  0  0  0  0  0  0  0  0  0  0  0  0\n",
      "  0  0  0  0  0  0  0  0  0  0  0  0  0  0  0  0  0  0  0  0  0  0  0  0\n",
      "  0  0  0 11 17 14  4 13  5 15  4  4 10  1 22  3 15 11 13 17 10  4 15  6\n",
      " 15 14  3 13  1 16 22  1 13  3  1  9 13 16  3 10 14 10 16  9 15 10 13 13\n",
      "  2  5 16  7  9 17 20 19  5 16 19 10 11  6 16  2 10 10 19 17 16  6  5 16\n",
      " 10 22 10  6 12 19  5 13  1  4 11  3 22 10 15  2  1  1  6 16  2  8 13 16\n",
      "  1  8 19 16  5 17 19 16 15 15 12  1 12 19  8 13 12  5 14  8 10  5 19 16\n",
      " 17  5  1 19 17 17 17  2 10  8 20  5  6  2  9 10 19 10 12 13 16  1  8 12\n",
      "  8 12  5 12 10  8 10 10 10 10 10  4 10 10 11  1  1 17 19  8  8  1  1 15\n",
      " 16 16  4  4  3  2  9  9  9  9  6 16 11 16  3 16  1 12  8 10  3  4 19 13\n",
      "  5 13  1 15 19 10  9 16 22 16 19 19  4 19  8  1  6  8 16  1 19 10  6  6\n",
      "  8  8  1 10 12 19  3  3 16 19 16  6 13  7 10 16 19 17  5  5 20  8 10 19\n",
      "  1  2  5 13 16  1  8  1 16  7 19  1  1  4  2 13 16  9  2 10 19  4 19 10\n",
      "  8  1  8 16 16 10 17 16 13 10 10  5 17  1 16  6 22 10 16  5 16  8 11 15\n",
      "  8 19  4 11  5  9  3 22 13 13  1  8  9 13 16 22  3 19 10 10 10 10 10 10\n",
      " 10 19 10 10 10 14  1  6 10 12 17  6 17  1  8 14  2 19 15  5  9 19 16  1\n",
      " 15 10 14  6  1 16 20  3 17 14 12  6 13 14  4 15 10  1  6  4 19  1 15 16\n",
      " 13 10  9  4  5  3  9  4  9  1 20 15  1 19 19 19 14 11  1 14]\n",
      "500\n"
     ]
    }
   ],
   "source": [
    "print(y[0]) # category\n",
    "print(X_all[0]) #order of the letter in the alphabet asigned to the aminoacids, A = 1\n",
    "print(len(X_all[0])) #sequence size"
   ]
  },
  {
   "cell_type": "markdown",
   "metadata": {},
   "source": [
    "This is a keras trick  o overcome the variable length issue, so all data points will have the same lenght (just as the pixels in images"
   ]
  },
  {
   "cell_type": "code",
   "execution_count": 24,
   "metadata": {},
   "outputs": [],
   "source": [
    "max_sequence_size = 500   # any sequence longer than this, we ignore (just for now) "
   ]
  },
  {
   "cell_type": "code",
   "execution_count": 25,
   "metadata": {},
   "outputs": [],
   "source": [
    "X_all = sequence.pad_sequences(X_all, maxlen=max_sequence_size)"
   ]
  },
  {
   "cell_type": "markdown",
   "metadata": {},
   "source": [
    "### Now we need to split the data "
   ]
  },
  {
   "cell_type": "code",
   "execution_count": 28,
   "metadata": {},
   "outputs": [
    {
     "name": "stdout",
     "output_type": "stream",
     "text": [
      "(7, 500)\n",
      "(7,)\n"
     ]
    }
   ],
   "source": [
    "print(X_all.shape)  # extremely important that you view this! \n",
    "print(y_all.shape)  # make sure you are comfortable with shapes! "
   ]
  },
  {
   "cell_type": "markdown",
   "metadata": {},
   "source": [
    "We'll do a basic shuffle and 66%, 33% split. "
   ]
  },
  {
   "cell_type": "code",
   "execution_count": 29,
   "metadata": {},
   "outputs": [],
   "source": [
    "n = X_all.shape[0]  # number of data points "
   ]
  },
  {
   "cell_type": "code",
   "execution_count": 30,
   "metadata": {},
   "outputs": [],
   "source": [
    "# randomize to shuffle first\n",
    "randomize = np.arange(n)\n",
    "np.random.shuffle(randomize)"
   ]
  },
  {
   "cell_type": "code",
   "execution_count": 34,
   "metadata": {},
   "outputs": [
    {
     "data": {
      "text/plain": [
       "array([2, 6, 1, 5, 4, 3, 0])"
      ]
     },
     "execution_count": 34,
     "metadata": {},
     "output_type": "execute_result"
    }
   ],
   "source": [
    "# creating an array  with the indexes shuffled (this is the manual of train-test split)\n",
    "randomize"
   ]
  },
  {
   "cell_type": "code",
   "execution_count": 33,
   "metadata": {},
   "outputs": [],
   "source": [
    "X_all = X_all[randomize]\n",
    "y_all = y_all[randomize]"
   ]
  },
  {
   "cell_type": "code",
   "execution_count": 35,
   "metadata": {},
   "outputs": [],
   "source": [
    "#they are shuffled already\n",
    "test_split = round(n * 2 / 3)\n",
    "X_train = X_all[:test_split]   # start to (just before) test_split \n",
    "y_train = y_all[:test_split]   \n",
    "X_test  = X_all[test_split:]   # test_split to end \n",
    "y_test  = y_all[test_split:]"
   ]
  },
  {
   "cell_type": "code",
   "execution_count": 36,
   "metadata": {},
   "outputs": [
    {
     "name": "stdout",
     "output_type": "stream",
     "text": [
      "(5, 500)\n",
      "(5,)\n",
      "(2, 500)\n",
      "(2,)\n"
     ]
    }
   ],
   "source": [
    "# Print shapes again \n",
    "print(X_train.shape)\n",
    "print(y_train.shape)\n",
    "print(X_test.shape)\n",
    "print(y_test.shape)"
   ]
  },
  {
   "cell_type": "markdown",
   "metadata": {},
   "source": [
    "### Understanding the Shapes "
   ]
  },
  {
   "cell_type": "code",
   "execution_count": 46,
   "metadata": {},
   "outputs": [
    {
     "data": {
      "text/plain": [
       "'     [  .  .  .  .  .  5 ]         Initial shape: (5, )   '"
      ]
     },
     "execution_count": 46,
     "metadata": {},
     "output_type": "execute_result"
    }
   ],
   "source": [
    "\"     [  .  .  .  .  .  5 ]         Initial shape: (5, )   \"\n"
   ]
  },
  {
   "cell_type": "code",
   "execution_count": 51,
   "metadata": {},
   "outputs": [
    {
     "data": {
      "text/plain": [
       "'     [ [. . . . . . . . 500 ]    []   []   []   []  ]      Shape is now: (5, 500)'"
      ]
     },
     "execution_count": 51,
     "metadata": {},
     "output_type": "execute_result"
    }
   ],
   "source": [
    "\"     [ [. . . . . . . . 500 ]    []   []   []   []  ]      Shape is now: (5, 500)\""
   ]
  },
  {
   "cell_type": "code",
   "execution_count": 53,
   "metadata": {},
   "outputs": [
    {
     "data": {
      "text/plain": [
       "' \\n[ [\\n    [0,0,0,0,0,0 ....1,...0,0,0]\\n   [. . . . . . . . . . 23]             (where 23 is the number of amino acids)\\n    . \\n    .\\n    .\\n    500 \\n  ]    \\n  []   \\n  []   \\n  []   \\n  []  \\n  ] \\n  \\n  So, the final shape will be: (5, 500, 23)\\n'"
      ]
     },
     "execution_count": 53,
     "metadata": {},
     "output_type": "execute_result"
    }
   ],
   "source": [
    "# This, when converted to one-hot representation becomes: \n",
    "\n",
    "\"\"\" \n",
    "[ [\n",
    "    [0,0,0,0,0,0 ....1,...0,0,0]\n",
    "   [. . . . . . . . . . 23]             (where 23 is the number of amino acids)\n",
    "    . \n",
    "    .\n",
    "    .\n",
    "    500 \n",
    "  ]    \n",
    "  []   \n",
    "  []   \n",
    "  []   \n",
    "  []  \n",
    "  ] \n",
    "  \n",
    "  So, the final shape will be: (5, 500, 23)\n",
    "\"\"\""
   ]
  },
  {
   "cell_type": "markdown",
   "metadata": {},
   "source": [
    "### Configuration of the model"
   ]
  },
  {
   "cell_type": "code",
   "execution_count": null,
   "metadata": {},
   "outputs": [],
   "source": [
    "from keras.layers import Embedding, Input, Dropout, Flatten, Dense, Activation\n",
    "from keras.models import Model, Sequential\n",
    "from keras.optimizers import SGD"
   ]
  },
  {
   "cell_type": "code",
   "execution_count": null,
   "metadata": {},
   "outputs": [],
   "source": [
    "num_amino_acids = 23 \n",
    "embedding_dims = 10 \n",
    "nb_epoch = 2\n",
    "batch_size = 2"
   ]
  },
  {
   "cell_type": "code",
   "execution_count": null,
   "metadata": {},
   "outputs": [],
   "source": [
    "model = Sequential() \n",
    "\n",
    "model.add(Embedding(num_amino_acids, embedding_dims, input_length=max_sequence_size  ))\n",
    "model.add(Flatten())\n",
    "model.add(Dense(25, activation='sigmoid'))\n",
    "model.add(Dense(1, activation='sigmoid'))"
   ]
  },
  {
   "cell_type": "code",
   "execution_count": null,
   "metadata": {},
   "outputs": [],
   "source": [
    "model.summary()"
   ]
  },
  {
   "cell_type": "code",
   "execution_count": null,
   "metadata": {},
   "outputs": [],
   "source": [
    "model.compile(loss='binary_crossentropy',\n",
    "              optimizer=SGD(),\n",
    "metrics=['accuracy'])"
   ]
  },
  {
   "cell_type": "code",
   "execution_count": null,
   "metadata": {},
   "outputs": [],
   "source": [
    "model.summary()"
   ]
  },
  {
   "cell_type": "code",
   "execution_count": null,
   "metadata": {},
   "outputs": [],
   "source": [
    "hist = model.fit(X_train, y_train,\n",
    "                  batch_size = batch_size,\n",
    "                  epochs = nb_epoch, \n",
    "                  validation_data = (X_test, y_test),\n",
    "                  verbose=1)   "
   ]
  },
  {
   "cell_type": "markdown",
   "metadata": {},
   "source": [
    "# Changing to the Functional API "
   ]
  },
  {
   "cell_type": "code",
   "execution_count": null,
   "metadata": {},
   "outputs": [],
   "source": [
    "input = Input(shape=(max_sequence_size,))"
   ]
  },
  {
   "cell_type": "code",
   "execution_count": null,
   "metadata": {},
   "outputs": [],
   "source": [
    "embedding = Embedding(num_amino_acids, embedding_dims)(input)"
   ]
  },
  {
   "cell_type": "code",
   "execution_count": null,
   "metadata": {},
   "outputs": [],
   "source": [
    "x = Flatten()(embedding)\n",
    "x = Dense(25, activation='sigmoid')(x)\n",
    "x = Dense(1)(x)"
   ]
  },
  {
   "cell_type": "code",
   "execution_count": null,
   "metadata": {},
   "outputs": [],
   "source": [
    "output = Activation('sigmoid')(x)"
   ]
  },
  {
   "cell_type": "code",
   "execution_count": null,
   "metadata": {},
   "outputs": [],
   "source": [
    "model = Model([input], output)\n",
    "model.summary()"
   ]
  },
  {
   "cell_type": "code",
   "execution_count": null,
   "metadata": {},
   "outputs": [],
   "source": [
    "model.compile(loss='binary_crossentropy',\n",
    "              optimizer='adam',\n",
    "              metrics=['accuracy'])"
   ]
  },
  {
   "cell_type": "code",
   "execution_count": null,
   "metadata": {},
   "outputs": [],
   "source": [
    "hist = model.fit(X_train, y_train,\n",
    "                  batch_size = batch_size,\n",
    "                  epochs = nb_epoch, \n",
    "                  validation_data = (X_test, y_test),\n",
    "                  verbose=1)    "
   ]
  },
  {
   "cell_type": "code",
   "execution_count": null,
   "metadata": {},
   "outputs": [],
   "source": [
    "hist.history"
   ]
  },
  {
   "cell_type": "code",
   "execution_count": null,
   "metadata": {},
   "outputs": [],
   "source": []
  }
 ],
 "metadata": {
  "kernelspec": {
   "display_name": "Python 3",
   "language": "python",
   "name": "python3"
  },
  "language_info": {
   "codemirror_mode": {
    "name": "ipython",
    "version": 3
   },
   "file_extension": ".py",
   "mimetype": "text/x-python",
   "name": "python",
   "nbconvert_exporter": "python",
   "pygments_lexer": "ipython3",
   "version": "3.6.5"
  }
 },
 "nbformat": 4,
 "nbformat_minor": 2
}
