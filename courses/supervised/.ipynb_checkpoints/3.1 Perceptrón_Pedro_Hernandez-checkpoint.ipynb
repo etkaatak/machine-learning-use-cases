{
 "cells": [
  {
   "cell_type": "markdown",
   "metadata": {
    "collapsed": true
   },
   "source": [
    "###Modelo de Neurona Perceptrón para clasificación"
   ]
  },
  {
   "cell_type": "code",
   "execution_count": 239,
   "metadata": {
    "collapsed": true
   },
   "outputs": [],
   "source": [
    "from sklearn.cross_validation import train_test_split\n",
    "from sklearn.linear_model import LinearRegression\n",
    "from sklearn import preprocessing as pp\n",
    "import pandas as pd\n",
    "import numpy as np\n",
    "import csv\n",
    "import random as rnd\n",
    "import matplotlib.pyplot as plt\n",
    "import random as rnd\n",
    "%matplotlib inline"
   ]
  },
  {
   "cell_type": "markdown",
   "metadata": {},
   "source": [
    "#### 1) Se cargan el set de datos y se asigna el porcentaje de entrenamiento"
   ]
  },
  {
   "cell_type": "code",
   "execution_count": 240,
   "metadata": {
    "collapsed": false
   },
   "outputs": [
    {
     "name": "stdout",
     "output_type": "stream",
     "text": [
      "           X  y\n",
      "0  71.130300  0\n",
      "1  36.872465  0\n",
      "2  56.508402  0\n",
      "3  78.120147  0\n",
      "4  65.575073  0\n",
      "                 X            y\n",
      "count  1029.000000  1029.000000\n",
      "mean     48.589544     0.325559\n",
      "std      29.227099     0.468811\n",
      "min       0.110611     0.000000\n",
      "25%      22.625683     0.000000\n",
      "50%      46.887538     0.000000\n",
      "75%      74.247858     1.000000\n",
      "max      99.983493     1.000000\n"
     ]
    }
   ],
   "source": [
    "data = pd.read_csv(\"regLin4.csv\")\n",
    "print(data.head())\n",
    "print(data.describe())"
   ]
  },
  {
   "cell_type": "code",
   "execution_count": 241,
   "metadata": {
    "collapsed": false
   },
   "outputs": [
    {
     "name": "stdout",
     "output_type": "stream",
     "text": [
      "771 258\n"
     ]
    }
   ],
   "source": [
    "X_train, X_test, Y_train, Y_test = train_test_split(data[[\"X\"]],data[\"y\"], train_size=0.75)\n",
    "print len(X_train), len(X_test)"
   ]
  },
  {
   "cell_type": "markdown",
   "metadata": {},
   "source": [
    "#### 2) Transformación de los datos"
   ]
  },
  {
   "cell_type": "code",
   "execution_count": 242,
   "metadata": {
    "collapsed": false
   },
   "outputs": [
    {
     "name": "stdout",
     "output_type": "stream",
     "text": [
      "          X\n",
      "0  1.174977\n",
      "1 -0.236886\n",
      "2 -1.025941\n",
      "3 -1.360057\n",
      "4  1.420909\n"
     ]
    }
   ],
   "source": [
    "ScaleX = pp.StandardScaler()\n",
    "ScaleX.fit(X_train)\n",
    "X_train = pd.DataFrame(data = ScaleX.transform(X_train), columns = ['X'])\n",
    "print X_train.head()"
   ]
  },
  {
   "cell_type": "code",
   "execution_count": 210,
   "metadata": {
    "collapsed": false
   },
   "outputs": [
    {
     "data": {
      "text/plain": [
       "<matplotlib.collections.PathCollection at 0x10e3efed0>"
      ]
     },
     "execution_count": 210,
     "metadata": {},
     "output_type": "execute_result"
    },
    {
     "data": {
      "image/png": "[encoded data removed]",
      "text/plain": [
       "<matplotlib.figure.Figure at 0x10e1f5250>"
      ]
     },
     "metadata": {},
     "output_type": "display_data"
    }
   ],
   "source": [
    "plt.scatter(X_train,Y_train)"
   ]
  },
  {
   "cell_type": "markdown",
   "metadata": {},
   "source": [
    "#### 3) Se definen las funciones entrena (con regularicación lambda) y el actualizador de las w's"
   ]
  },
  {
   "cell_type": "code",
   "execution_count": 243,
   "metadata": {
    "collapsed": true
   },
   "outputs": [],
   "source": [
    "def transferencia(w0,w,X):\n",
    "    suma = w0\n",
    "    for i in range(len(w)):\n",
    "        suma = suma + w[i]*X.iloc[i]\n",
    "    if suma > 0:\n",
    "        indica = 1\n",
    "    else:\n",
    "        indica = 0\n",
    "    return indica"
   ]
  },
  {
   "cell_type": "code",
   "execution_count": 244,
   "metadata": {
    "collapsed": true
   },
   "outputs": [],
   "source": [
    "def entrena(w0,w,X,Y,eta):\n",
    "    for i in range(len(X)): \n",
    "        y_indica = transferencia(w0,w,X.iloc[i])\n",
    "        error = Y.iloc[i] - y_indica\n",
    "        w0 = w0 + eta*error\n",
    "        for j in range(len(X.columns)):\n",
    "            w[j] = w[j] + eta*error*X.iloc[i,j]\n",
    "    return w0,w"
   ]
  },
  {
   "cell_type": "markdown",
   "metadata": {},
   "source": [
    "####4) Valores iniciales y cálculo del umbral para las iteraciones"
   ]
  },
  {
   "cell_type": "code",
   "execution_count": 248,
   "metadata": {
    "collapsed": true
   },
   "outputs": [],
   "source": [
    "w0 = 0.5 #rnd.random()\n",
    "w = [0.2] #[rnd.random()]\n",
    "eta = 0.005"
   ]
  },
  {
   "cell_type": "code",
   "execution_count": 249,
   "metadata": {
    "collapsed": false
   },
   "outputs": [
    {
     "name": "stdout",
     "output_type": "stream",
     "text": [
      "(0.5, [0.2], 0.005)\n"
     ]
    }
   ],
   "source": [
    "print (w0,w,eta)"
   ]
  },
  {
   "cell_type": "code",
   "execution_count": 250,
   "metadata": {
    "collapsed": false
   },
   "outputs": [
    {
     "name": "stdout",
     "output_type": "stream",
     "text": [
      "(-0.02000000000000038, [-0.03293462042090297], -0.60726371655119371)\n"
     ]
    }
   ],
   "source": [
    "new_w0, new_w = entrena(w0,w,X_train,Y_train,eta)\n",
    "umbral = -new_w0/new_w[0]\n",
    "print(new_w0, new_w, umbral)"
   ]
  },
  {
   "cell_type": "markdown",
   "metadata": {},
   "source": [
    "####5) Iteramos en el recorrido de X para las estimaciones de Y"
   ]
  },
  {
   "cell_type": "code",
   "execution_count": 251,
   "metadata": {
    "collapsed": true
   },
   "outputs": [],
   "source": [
    "Y_hat = []\n",
    "for i in range(len(X_train)):\n",
    "    suma = new_w0 + new_w[0]*X_train.iloc[i,0]\n",
    "    if suma > 0:\n",
    "        indica = 1\n",
    "    else:\n",
    "        indica = 0\n",
    "    Y_hat.append(indica)"
   ]
  },
  {
   "cell_type": "markdown",
   "metadata": {},
   "source": [
    "####6) Visualización de clasificación"
   ]
  },
  {
   "cell_type": "code",
   "execution_count": 253,
   "metadata": {
    "collapsed": false
   },
   "outputs": [
    {
     "data": {
      "image/png": "[encoded data removed]",
      "text/plain": [
       "<matplotlib.figure.Figure at 0x10ef3e0d0>"
      ]
     },
     "metadata": {},
     "output_type": "display_data"
    }
   ],
   "source": [
    "plt.scatter(X_train, Y_hat, color = \"black\")\n",
    "plt.axvline(umbral, color=\"orange\")\n",
    "plt.grid()"
   ]
  }
 ],
 "metadata": {
  "kernelspec": {
   "display_name": "Python 2",
   "language": "python",
   "name": "python2"
  },
  "language_info": {
   "codemirror_mode": {
    "name": "ipython",
    "version": 2
   },
   "file_extension": ".py",
   "mimetype": "text/x-python",
   "name": "python",
   "nbconvert_exporter": "python",
   "pygments_lexer": "ipython2",
   "version": "2.7.10"
  }
 },
 "nbformat": 4,
 "nbformat_minor": 0
}
