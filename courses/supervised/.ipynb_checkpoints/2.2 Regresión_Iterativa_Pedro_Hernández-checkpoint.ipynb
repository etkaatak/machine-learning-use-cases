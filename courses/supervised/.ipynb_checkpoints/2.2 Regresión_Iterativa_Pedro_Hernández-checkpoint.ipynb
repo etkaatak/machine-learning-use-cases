{
 "cells": [
  {
   "cell_type": "markdown",
   "metadata": {},
   "source": [
    "###Regresión Iterativa"
   ]
  },
  {
   "cell_type": "code",
   "execution_count": 1,
   "metadata": {
    "collapsed": true
   },
   "outputs": [],
   "source": [
    "from sklearn.cross_validation import train_test_split\n",
    "import matplotlib.pyplot as plt\n",
    "from sklearn import preprocessing as pp\n",
    "import csv\n",
    "import pandas as pd\n",
    "import numpy as np\n",
    "%matplotlib inline"
   ]
  },
  {
   "cell_type": "markdown",
   "metadata": {},
   "source": [
    "#### 1) Se cargan el set de datos y se asigna el porcentaje de entrenamiento"
   ]
  },
  {
   "cell_type": "code",
   "execution_count": 3,
   "metadata": {
    "collapsed": false
   },
   "outputs": [
    {
     "name": "stdout",
     "output_type": "stream",
     "text": [
      "           X          y\n",
      "0  35.657897  28.074403\n",
      "1  48.685931  36.674434\n",
      "2  95.861773  67.903577\n",
      "3  25.997253  11.931727\n",
      "4  49.964772  30.286144\n",
      "                 X            y\n",
      "count  1029.000000  1029.000000\n",
      "mean     50.008111    32.893917\n",
      "std      29.055066    18.083566\n",
      "min       0.030369    -4.586608\n",
      "25%      25.201087    17.583093\n",
      "50%      50.884987    33.564129\n",
      "75%      75.636823    48.339811\n",
      "max      99.959580    71.762748\n"
     ]
    }
   ],
   "source": [
    "data = pd.read_csv(\"regLin.csv\")\n",
    "print(data.head())\n",
    "print(data.describe())"
   ]
  },
  {
   "cell_type": "code",
   "execution_count": 4,
   "metadata": {
    "collapsed": false
   },
   "outputs": [
    {
     "name": "stdout",
     "output_type": "stream",
     "text": [
      "771 258\n"
     ]
    }
   ],
   "source": [
    "X_train, X_test, Y_train, Y_test = train_test_split(data[['X']], data['y'], train_size = 0.75)\n",
    "print len(X_train), len(X_test)"
   ]
  },
  {
   "cell_type": "markdown",
   "metadata": {},
   "source": [
    "#### 2) Transformación de los datos"
   ]
  },
  {
   "cell_type": "code",
   "execution_count": 11,
   "metadata": {
    "collapsed": false
   },
   "outputs": [
    {
     "name": "stdout",
     "output_type": "stream",
     "text": [
      "          0\n",
      "0  0.198360\n",
      "1 -0.981348\n",
      "2  0.425039\n",
      "3 -0.248748\n",
      "4 -0.783771\n"
     ]
    }
   ],
   "source": [
    "X_scaler = pp.StandardScaler().fit(X_train)\n",
    "X_scaled = pd.DataFrame(X_scaler.transform(X_train))\n",
    "print X_scaled.head()"
   ]
  },
  {
   "cell_type": "code",
   "execution_count": 12,
   "metadata": {
    "collapsed": false
   },
   "outputs": [
    {
     "name": "stdout",
     "output_type": "stream",
     "text": [
      "          0\n",
      "0  0.355860\n",
      "1 -0.810820\n",
      "2  0.410995\n",
      "3 -0.211172\n",
      "4 -0.417195\n"
     ]
    }
   ],
   "source": [
    "Y_scaler = pp.StandardScaler().fit(Y_train)\n",
    "Y_scaled = pd.DataFrame(Y_scaler.transform(Y_train))\n",
    "print Y_scaled.head()"
   ]
  },
  {
   "cell_type": "markdown",
   "metadata": {},
   "source": [
    "#### 3) Se definen las funciones entrena y el actualizador de w's"
   ]
  },
  {
   "cell_type": "code",
   "execution_count": 7,
   "metadata": {
    "collapsed": false,
    "scrolled": true
   },
   "outputs": [],
   "source": [
    "def actualizador (w0, W, x_i):\n",
    "    weight = w0\n",
    "    for i in range(len(W)):\n",
    "        weight = weight + (W[i] * x_i[i])\n",
    "    return weight"
   ]
  },
  {
   "cell_type": "code",
   "execution_count": 8,
   "metadata": {
    "collapsed": false
   },
   "outputs": [],
   "source": [
    "def entrena(w0, W, X, Y, eta):\n",
    "    for i in range(len(X)):\n",
    "        x_i = X.iloc[i]\n",
    "        y_hat = actualizador(w0, W, x_i)\n",
    "        error = Y.iloc[i] - y_hat\n",
    "        w0 = eta * error + w0\n",
    "        for j in range(len(x_i)):\n",
    "            W[j] = W[j] + (eta * error * X.iloc[i][j])\n",
    "    return w0, W"
   ]
  },
  {
   "cell_type": "markdown",
   "metadata": {},
   "source": [
    "####4) Valores iniciales para las iteraciones"
   ]
  },
  {
   "cell_type": "code",
   "execution_count": 23,
   "metadata": {
    "collapsed": false
   },
   "outputs": [],
   "source": [
    "w0 = 0\n",
    "W = [1]#list(np.random.randint(0, 5, 1))\n",
    "eta = 0.001"
   ]
  },
  {
   "cell_type": "code",
   "execution_count": 24,
   "metadata": {
    "collapsed": false
   },
   "outputs": [
    {
     "name": "stdout",
     "output_type": "stream",
     "text": [
      "(0, [1], 0.001)\n"
     ]
    }
   ],
   "source": [
    "print (w0,W,eta)"
   ]
  },
  {
   "cell_type": "markdown",
   "metadata": {},
   "source": [
    "#### 5) Entrenamos ahora los datos transformados para encontrar las w's"
   ]
  },
  {
   "cell_type": "code",
   "execution_count": 25,
   "metadata": {
    "collapsed": false,
    "scrolled": false
   },
   "outputs": [
    {
     "data": {
      "text/plain": [
       "(0   -0.000372\n",
       " dtype: float64, [0    0.986212\n",
       "  dtype: float64])"
      ]
     },
     "execution_count": 25,
     "metadata": {},
     "output_type": "execute_result"
    }
   ],
   "source": [
    "new_w=entrena(w0, W, X_scaled, Y_scaled, eta)\n",
    "new_w"
   ]
  },
  {
   "cell_type": "code",
   "execution_count": 26,
   "metadata": {
    "collapsed": false
   },
   "outputs": [],
   "source": [
    "Y_hat = new_w[0] + (X_scaled * new_w[1])"
   ]
  },
  {
   "cell_type": "markdown",
   "metadata": {},
   "source": [
    "####6) Visualización de la recta de regresión"
   ]
  },
  {
   "cell_type": "code",
   "execution_count": 27,
   "metadata": {
    "collapsed": false
   },
   "outputs": [
    {
     "data": {
      "image/png": "[encoded data removed]",
      "text/plain": [
       "<matplotlib.figure.Figure at 0x1083ca090>"
      ]
     },
     "metadata": {},
     "output_type": "display_data"
    }
   ],
   "source": [
    "plt.scatter(X_scaled[0], Y_scaled[0], color = 'black')\n",
    "plt.plot(X_scaled[0], Y_hat, color = 'orange', linewidth = 2)\n",
    "plt.show()"
   ]
  },
  {
   "cell_type": "code",
   "execution_count": 28,
   "metadata": {
    "collapsed": false
   },
   "outputs": [
    {
     "data": {
      "text/html": [
       "<div>\n",
       "<table border=\"1\" class=\"dataframe\">\n",
       "  <thead>\n",
       "    <tr style=\"text-align: right;\">\n",
       "      <th></th>\n",
       "      <th>0</th>\n",
       "    </tr>\n",
       "  </thead>\n",
       "  <tbody>\n",
       "    <tr>\n",
       "      <th>0</th>\n",
       "      <td>0    0.195253\n",
       "dtype: float64</td>\n",
       "    </tr>\n",
       "    <tr>\n",
       "      <th>1</th>\n",
       "      <td>0   -0.96819\n",
       "dtype: float64</td>\n",
       "    </tr>\n",
       "    <tr>\n",
       "      <th>2</th>\n",
       "      <td>0    0.418806\n",
       "dtype: float64</td>\n",
       "    </tr>\n",
       "    <tr>\n",
       "      <th>3</th>\n",
       "      <td>0   -0.245691\n",
       "dtype: float64</td>\n",
       "    </tr>\n",
       "    <tr>\n",
       "      <th>4</th>\n",
       "      <td>0   -0.773337\n",
       "dtype: float64</td>\n",
       "    </tr>\n",
       "    <tr>\n",
       "      <th>5</th>\n",
       "      <td>0   -1.530543\n",
       "dtype: float64</td>\n",
       "    </tr>\n",
       "    <tr>\n",
       "      <th>6</th>\n",
       "      <td>0    0.865546\n",
       "dtype: float64</td>\n",
       "    </tr>\n",
       "    <tr>\n",
       "      <th>7</th>\n",
       "      <td>0    0.428964\n",
       "dtype: float64</td>\n",
       "    </tr>\n",
       "    <tr>\n",
       "      <th>8</th>\n",
       "      <td>0    1.464488\n",
       "dtype: float64</td>\n",
       "    </tr>\n",
       "    <tr>\n",
       "      <th>9</th>\n",
       "      <td>0    0.135763\n",
       "dtype: float64</td>\n",
       "    </tr>\n",
       "    <tr>\n",
       "      <th>10</th>\n",
       "      <td>0   -1.501785\n",
       "dtype: float64</td>\n",
       "    </tr>\n",
       "    <tr>\n",
       "      <th>11</th>\n",
       "      <td>0    0.827678\n",
       "dtype: float64</td>\n",
       "    </tr>\n",
       "    <tr>\n",
       "      <th>12</th>\n",
       "      <td>0   -0.133377\n",
       "dtype: float64</td>\n",
       "    </tr>\n",
       "    <tr>\n",
       "      <th>13</th>\n",
       "      <td>0    1.050804\n",
       "dtype: float64</td>\n",
       "    </tr>\n",
       "    <tr>\n",
       "      <th>14</th>\n",
       "      <td>0   -0.749921\n",
       "dtype: float64</td>\n",
       "    </tr>\n",
       "    <tr>\n",
       "      <th>15</th>\n",
       "      <td>0    0.592938\n",
       "dtype: float64</td>\n",
       "    </tr>\n",
       "    <tr>\n",
       "      <th>16</th>\n",
       "      <td>0    1.097535\n",
       "dtype: float64</td>\n",
       "    </tr>\n",
       "    <tr>\n",
       "      <th>17</th>\n",
       "      <td>0    1.008351\n",
       "dtype: float64</td>\n",
       "    </tr>\n",
       "    <tr>\n",
       "      <th>18</th>\n",
       "      <td>0    1.101273\n",
       "dtype: float64</td>\n",
       "    </tr>\n",
       "    <tr>\n",
       "      <th>19</th>\n",
       "      <td>0   -1.294307\n",
       "dtype: float64</td>\n",
       "    </tr>\n",
       "    <tr>\n",
       "      <th>20</th>\n",
       "      <td>0   -0.242766\n",
       "dtype: float64</td>\n",
       "    </tr>\n",
       "    <tr>\n",
       "      <th>21</th>\n",
       "      <td>0   -0.249808\n",
       "dtype: float64</td>\n",
       "    </tr>\n",
       "    <tr>\n",
       "      <th>22</th>\n",
       "      <td>0    1.633971\n",
       "dtype: float64</td>\n",
       "    </tr>\n",
       "    <tr>\n",
       "      <th>23</th>\n",
       "      <td>0   -0.549853\n",
       "dtype: float64</td>\n",
       "    </tr>\n",
       "    <tr>\n",
       "      <th>24</th>\n",
       "      <td>0    0.790991\n",
       "dtype: float64</td>\n",
       "    </tr>\n",
       "    <tr>\n",
       "      <th>25</th>\n",
       "      <td>0    0.019723\n",
       "dtype: float64</td>\n",
       "    </tr>\n",
       "    <tr>\n",
       "      <th>26</th>\n",
       "      <td>0   -1.428869\n",
       "dtype: float64</td>\n",
       "    </tr>\n",
       "    <tr>\n",
       "      <th>27</th>\n",
       "      <td>0   -1.71433\n",
       "dtype: float64</td>\n",
       "    </tr>\n",
       "    <tr>\n",
       "      <th>28</th>\n",
       "      <td>0   -0.137946\n",
       "dtype: float64</td>\n",
       "    </tr>\n",
       "    <tr>\n",
       "      <th>29</th>\n",
       "      <td>0    1.576467\n",
       "dtype: float64</td>\n",
       "    </tr>\n",
       "    <tr>\n",
       "      <th>...</th>\n",
       "      <td>...</td>\n",
       "    </tr>\n",
       "    <tr>\n",
       "      <th>741</th>\n",
       "      <td>0    0.680471\n",
       "dtype: float64</td>\n",
       "    </tr>\n",
       "    <tr>\n",
       "      <th>742</th>\n",
       "      <td>0   -0.420906\n",
       "dtype: float64</td>\n",
       "    </tr>\n",
       "    <tr>\n",
       "      <th>743</th>\n",
       "      <td>0   -0.307551\n",
       "dtype: float64</td>\n",
       "    </tr>\n",
       "    <tr>\n",
       "      <th>744</th>\n",
       "      <td>0    0.732622\n",
       "dtype: float64</td>\n",
       "    </tr>\n",
       "    <tr>\n",
       "      <th>745</th>\n",
       "      <td>0    0.495436\n",
       "dtype: float64</td>\n",
       "    </tr>\n",
       "    <tr>\n",
       "      <th>746</th>\n",
       "      <td>0    0.880617\n",
       "dtype: float64</td>\n",
       "    </tr>\n",
       "    <tr>\n",
       "      <th>747</th>\n",
       "      <td>0   -0.300733\n",
       "dtype: float64</td>\n",
       "    </tr>\n",
       "    <tr>\n",
       "      <th>748</th>\n",
       "      <td>0    0.940756\n",
       "dtype: float64</td>\n",
       "    </tr>\n",
       "    <tr>\n",
       "      <th>749</th>\n",
       "      <td>0    0.752187\n",
       "dtype: float64</td>\n",
       "    </tr>\n",
       "    <tr>\n",
       "      <th>750</th>\n",
       "      <td>0    0.493001\n",
       "dtype: float64</td>\n",
       "    </tr>\n",
       "    <tr>\n",
       "      <th>751</th>\n",
       "      <td>0    0.469667\n",
       "dtype: float64</td>\n",
       "    </tr>\n",
       "    <tr>\n",
       "      <th>752</th>\n",
       "      <td>0   -0.054594\n",
       "dtype: float64</td>\n",
       "    </tr>\n",
       "    <tr>\n",
       "      <th>753</th>\n",
       "      <td>0    0.458933\n",
       "dtype: float64</td>\n",
       "    </tr>\n",
       "    <tr>\n",
       "      <th>754</th>\n",
       "      <td>0    0.019313\n",
       "dtype: float64</td>\n",
       "    </tr>\n",
       "    <tr>\n",
       "      <th>755</th>\n",
       "      <td>0   -0.700811\n",
       "dtype: float64</td>\n",
       "    </tr>\n",
       "    <tr>\n",
       "      <th>756</th>\n",
       "      <td>0    0.695913\n",
       "dtype: float64</td>\n",
       "    </tr>\n",
       "    <tr>\n",
       "      <th>757</th>\n",
       "      <td>0   -1.081823\n",
       "dtype: float64</td>\n",
       "    </tr>\n",
       "    <tr>\n",
       "      <th>758</th>\n",
       "      <td>0   -1.430844\n",
       "dtype: float64</td>\n",
       "    </tr>\n",
       "    <tr>\n",
       "      <th>759</th>\n",
       "      <td>0    1.553353\n",
       "dtype: float64</td>\n",
       "    </tr>\n",
       "    <tr>\n",
       "      <th>760</th>\n",
       "      <td>0   -1.011818\n",
       "dtype: float64</td>\n",
       "    </tr>\n",
       "    <tr>\n",
       "      <th>761</th>\n",
       "      <td>0   -1.659703\n",
       "dtype: float64</td>\n",
       "    </tr>\n",
       "    <tr>\n",
       "      <th>762</th>\n",
       "      <td>0    0.596095\n",
       "dtype: float64</td>\n",
       "    </tr>\n",
       "    <tr>\n",
       "      <th>763</th>\n",
       "      <td>0    0.58576\n",
       "dtype: float64</td>\n",
       "    </tr>\n",
       "    <tr>\n",
       "      <th>764</th>\n",
       "      <td>0    1.197174\n",
       "dtype: float64</td>\n",
       "    </tr>\n",
       "    <tr>\n",
       "      <th>765</th>\n",
       "      <td>0   -0.645067\n",
       "dtype: float64</td>\n",
       "    </tr>\n",
       "    <tr>\n",
       "      <th>766</th>\n",
       "      <td>0   -0.309847\n",
       "dtype: float64</td>\n",
       "    </tr>\n",
       "    <tr>\n",
       "      <th>767</th>\n",
       "      <td>0   -1.327874\n",
       "dtype: float64</td>\n",
       "    </tr>\n",
       "    <tr>\n",
       "      <th>768</th>\n",
       "      <td>0    1.412692\n",
       "dtype: float64</td>\n",
       "    </tr>\n",
       "    <tr>\n",
       "      <th>769</th>\n",
       "      <td>0    1.384255\n",
       "dtype: float64</td>\n",
       "    </tr>\n",
       "    <tr>\n",
       "      <th>770</th>\n",
       "      <td>0    1.270064\n",
       "dtype: float64</td>\n",
       "    </tr>\n",
       "  </tbody>\n",
       "</table>\n",
       "<p>771 rows × 1 columns</p>\n",
       "</div>"
      ],
      "text/plain": [
       "                                0\n",
       "0    0    0.195253\n",
       "dtype: float64\n",
       "1     0   -0.96819\n",
       "dtype: float64\n",
       "2    0    0.418806\n",
       "dtype: float64\n",
       "3    0   -0.245691\n",
       "dtype: float64\n",
       "4    0   -0.773337\n",
       "dtype: float64\n",
       "5    0   -1.530543\n",
       "dtype: float64\n",
       "6    0    0.865546\n",
       "dtype: float64\n",
       "7    0    0.428964\n",
       "dtype: float64\n",
       "8    0    1.464488\n",
       "dtype: float64\n",
       "9    0    0.135763\n",
       "dtype: float64\n",
       "10   0   -1.501785\n",
       "dtype: float64\n",
       "11   0    0.827678\n",
       "dtype: float64\n",
       "12   0   -0.133377\n",
       "dtype: float64\n",
       "13   0    1.050804\n",
       "dtype: float64\n",
       "14   0   -0.749921\n",
       "dtype: float64\n",
       "15   0    0.592938\n",
       "dtype: float64\n",
       "16   0    1.097535\n",
       "dtype: float64\n",
       "17   0    1.008351\n",
       "dtype: float64\n",
       "18   0    1.101273\n",
       "dtype: float64\n",
       "19   0   -1.294307\n",
       "dtype: float64\n",
       "20   0   -0.242766\n",
       "dtype: float64\n",
       "21   0   -0.249808\n",
       "dtype: float64\n",
       "22   0    1.633971\n",
       "dtype: float64\n",
       "23   0   -0.549853\n",
       "dtype: float64\n",
       "24   0    0.790991\n",
       "dtype: float64\n",
       "25   0    0.019723\n",
       "dtype: float64\n",
       "26   0   -1.428869\n",
       "dtype: float64\n",
       "27    0   -1.71433\n",
       "dtype: float64\n",
       "28   0   -0.137946\n",
       "dtype: float64\n",
       "29   0    1.576467\n",
       "dtype: float64\n",
       "..                            ...\n",
       "741  0    0.680471\n",
       "dtype: float64\n",
       "742  0   -0.420906\n",
       "dtype: float64\n",
       "743  0   -0.307551\n",
       "dtype: float64\n",
       "744  0    0.732622\n",
       "dtype: float64\n",
       "745  0    0.495436\n",
       "dtype: float64\n",
       "746  0    0.880617\n",
       "dtype: float64\n",
       "747  0   -0.300733\n",
       "dtype: float64\n",
       "748  0    0.940756\n",
       "dtype: float64\n",
       "749  0    0.752187\n",
       "dtype: float64\n",
       "750  0    0.493001\n",
       "dtype: float64\n",
       "751  0    0.469667\n",
       "dtype: float64\n",
       "752  0   -0.054594\n",
       "dtype: float64\n",
       "753  0    0.458933\n",
       "dtype: float64\n",
       "754  0    0.019313\n",
       "dtype: float64\n",
       "755  0   -0.700811\n",
       "dtype: float64\n",
       "756  0    0.695913\n",
       "dtype: float64\n",
       "757  0   -1.081823\n",
       "dtype: float64\n",
       "758  0   -1.430844\n",
       "dtype: float64\n",
       "759  0    1.553353\n",
       "dtype: float64\n",
       "760  0   -1.011818\n",
       "dtype: float64\n",
       "761  0   -1.659703\n",
       "dtype: float64\n",
       "762  0    0.596095\n",
       "dtype: float64\n",
       "763   0    0.58576\n",
       "dtype: float64\n",
       "764  0    1.197174\n",
       "dtype: float64\n",
       "765  0   -0.645067\n",
       "dtype: float64\n",
       "766  0   -0.309847\n",
       "dtype: float64\n",
       "767  0   -1.327874\n",
       "dtype: float64\n",
       "768  0    1.412692\n",
       "dtype: float64\n",
       "769  0    1.384255\n",
       "dtype: float64\n",
       "770  0    1.270064\n",
       "dtype: float64\n",
       "\n",
       "[771 rows x 1 columns]"
      ]
     },
     "execution_count": 28,
     "metadata": {},
     "output_type": "execute_result"
    }
   ],
   "source": [
    "Y_hat = pd.DataFrame(Y_hat)\n",
    "Y_hat"
   ]
  }
 ],
 "metadata": {
  "kernelspec": {
   "display_name": "Python 2",
   "language": "python",
   "name": "python2"
  },
  "language_info": {
   "codemirror_mode": {
    "name": "ipython",
    "version": 2
   },
   "file_extension": ".py",
   "mimetype": "text/x-python",
   "name": "python",
   "nbconvert_exporter": "python",
   "pygments_lexer": "ipython2",
   "version": "2.7.10"
  }
 },
 "nbformat": 4,
 "nbformat_minor": 0
}
