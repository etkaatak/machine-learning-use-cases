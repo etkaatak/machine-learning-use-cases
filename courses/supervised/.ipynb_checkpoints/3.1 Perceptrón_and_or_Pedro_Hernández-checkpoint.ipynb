{
 "cells": [
  {
   "cell_type": "markdown",
   "metadata": {
    "collapsed": false
   },
   "source": [
    "###Modelo de Neurona Perceptrón para clasificación de funciones AND y OR"
   ]
  },
  {
   "cell_type": "code",
   "execution_count": 5,
   "metadata": {
    "collapsed": true
   },
   "outputs": [],
   "source": [
    "from sklearn.cross_validation import train_test_split\n",
    "from sklearn.linear_model import LinearRegression\n",
    "from sklearn import preprocessing as pp\n",
    "import pandas as pd\n",
    "import numpy as np\n",
    "import csv\n",
    "import matplotlib.pyplot as plt\n",
    "import random as rnd\n",
    "%matplotlib inline"
   ]
  },
  {
   "cell_type": "markdown",
   "metadata": {},
   "source": [
    "#### 1) Se definen las funciones de saparación lineal AND y OR"
   ]
  },
  {
   "cell_type": "code",
   "execution_count": 6,
   "metadata": {
    "collapsed": true
   },
   "outputs": [],
   "source": [
    "fn_and = pd.DataFrame(np.array([[0,0,0],[0,1,0],[1,0,0],[1,1,1]]),columns=[\"X1\",\"X2\",\"Y\"])\n",
    "fn_or = pd.DataFrame(np.array([[0,0,0],[0,1,1],[1,0,1],[1,1,1]]),columns=[\"X1\",\"X2\",\"Y\"])"
   ]
  },
  {
   "cell_type": "markdown",
   "metadata": {},
   "source": [
    "####2)  Generamos sets de datos para dichas funciones"
   ]
  },
  {
   "cell_type": "code",
   "execution_count": 7,
   "metadata": {
    "collapsed": false
   },
   "outputs": [
    {
     "name": "stdout",
     "output_type": "stream",
     "text": [
      "   X1  X2  Y\n",
      "0   0   0  0\n",
      "1   0   1  1\n",
      "2   1   0  1\n",
      "3   1   1  1\n",
      "4   0   0  0\n",
      "               X1          X2           Y\n",
      "count  124.000000  124.000000  124.000000\n",
      "mean     0.500000    0.500000    0.750000\n",
      "std      0.502028    0.502028    0.434769\n",
      "min      0.000000    0.000000    0.000000\n",
      "25%      0.000000    0.000000    0.750000\n",
      "50%      0.500000    0.500000    1.000000\n",
      "75%      1.000000    1.000000    1.000000\n",
      "max      1.000000    1.000000    1.000000\n"
     ]
    }
   ],
   "source": [
    "data = fn_or\n",
    "for i in range(30):\n",
    "   data = data.append(fn_or)\n",
    "data = data.reset_index(drop=True)\n",
    "print(data.head())\n",
    "print(data.describe())"
   ]
  },
  {
   "cell_type": "code",
   "execution_count": 9,
   "metadata": {
    "collapsed": false
   },
   "outputs": [
    {
     "name": "stdout",
     "output_type": "stream",
     "text": [
      " 124\n"
     ]
    }
   ],
   "source": [
    "X_train = data[[\"X1\",\"X2\"]]  \n",
    "Y_train = data[[\"Y\"]]\n",
    "print len(X_train)"
   ]
  },
  {
   "cell_type": "markdown",
   "metadata": {
    "collapsed": true
   },
   "source": [
    "#### 3) Se definen las funciones entrena (con regularicación lambda) y el actualizador de las w's"
   ]
  },
  {
   "cell_type": "code",
   "execution_count": 10,
   "metadata": {
    "collapsed": true
   },
   "outputs": [],
   "source": [
    "def transferencia(w0,w,X):\n",
    "    suma = w0\n",
    "    for i in range(len(w)):\n",
    "        suma = suma + w[i]*X.iloc[i]\n",
    "    if suma > 0:\n",
    "        indica = 1\n",
    "    else:\n",
    "        indica = 0\n",
    "    return indica"
   ]
  },
  {
   "cell_type": "code",
   "execution_count": 11,
   "metadata": {
    "collapsed": true
   },
   "outputs": [],
   "source": [
    "def entrena(w0,w,X_train,Y_train,eta):\n",
    "    for i in range(len(X_train)): \n",
    "        y_indica = transferencia(w0,w,X_train.iloc[i,0:len(X_train.columns)])\n",
    "        error = Y_train.iloc[i,0] - y_indica\n",
    "        w0 = w0 + eta*error\n",
    "        for j in range(len(X_train.columns)):\n",
    "            w[j] = w[j] + eta*error*X_train.iloc[i,j]\n",
    "    return w0,w"
   ]
  },
  {
   "cell_type": "markdown",
   "metadata": {},
   "source": [
    "####4) Valores iniciales y cálculo del umbral para las iteraciones"
   ]
  },
  {
   "cell_type": "code",
   "execution_count": 14,
   "metadata": {
    "collapsed": true
   },
   "outputs": [],
   "source": [
    "w0 = 0.5 \n",
    "w = [0.2,0.2] \n",
    "eta = 0.05"
   ]
  },
  {
   "cell_type": "code",
   "execution_count": 15,
   "metadata": {
    "collapsed": false
   },
   "outputs": [
    {
     "name": "stdout",
     "output_type": "stream",
     "text": [
      "(0.5, [0.2, 0.2], 0.05)\n"
     ]
    }
   ],
   "source": [
    "print (w0,w,eta)"
   ]
  },
  {
   "cell_type": "code",
   "execution_count": 16,
   "metadata": {
    "collapsed": false
   },
   "outputs": [
    {
     "name": "stdout",
     "output_type": "stream",
     "text": [
      "(-0.04999999999999993, [0.2, 0.2], array([ 0.75      ,  0.52777778,  0.30555556,  0.08333333, -0.13888889,\n",
      "       -0.36111111, -0.58333333, -0.80555556, -1.02777778, -1.25      ]))\n"
     ]
    }
   ],
   "source": [
    "new_w0, new_w = entrena(w0,w,X_train,Y_train,eta)\n",
    "aux = np.linspace(-0.5,1.5,10)\n",
    "umbral = -aux*new_w[0]/new_w[1]-new_w0/new_w[1]\n",
    "print(new_w0, new_w, umbral)"
   ]
  },
  {
   "cell_type": "markdown",
   "metadata": {},
   "source": [
    "####5) Iteramos en el recorrido de X para las estimaciones de Y"
   ]
  },
  {
   "cell_type": "code",
   "execution_count": 18,
   "metadata": {
    "collapsed": true
   },
   "outputs": [],
   "source": [
    "Y_hat = []\n",
    "for i in range(len(X_train)):\n",
    "    suma = new_w0 + new_w[0]*X_train.iloc[i,0]\n",
    "    if suma > 0:\n",
    "        indica = 1\n",
    "    else:\n",
    "        indica = 0\n",
    "    Y_hat.append(indica)"
   ]
  },
  {
   "cell_type": "markdown",
   "metadata": {},
   "source": [
    "####6) Visualización de clasificación de separadores lineales"
   ]
  },
  {
   "cell_type": "code",
   "execution_count": 26,
   "metadata": {
    "collapsed": false
   },
   "outputs": [
    {
     "data": {
      "image/png": "[encoded data removed]",
      "text/plain": [
       "<matplotlib.figure.Figure at 0x10967a410>"
      ]
     },
     "metadata": {},
     "output_type": "display_data"
    }
   ],
   "source": [
    "plt.scatter(X_train[[\"X1\"]],Y_hat,color=\"black\")\n",
    "plt.scatter(X_train[[\"X2\"]],Y_hat,color=\"black\")\n",
    "plt.plot(aux,umbral, color=\"orange\")\n",
    "plt.grid()"
   ]
  }
 ],
 "metadata": {
  "kernelspec": {
   "display_name": "Python 2",
   "language": "python",
   "name": "python2"
  },
  "language_info": {
   "codemirror_mode": {
    "name": "ipython",
    "version": 2
   },
   "file_extension": ".py",
   "mimetype": "text/x-python",
   "name": "python",
   "nbconvert_exporter": "python",
   "pygments_lexer": "ipython2",
   "version": "2.7.10"
  }
 },
 "nbformat": 4,
 "nbformat_minor": 0
}
