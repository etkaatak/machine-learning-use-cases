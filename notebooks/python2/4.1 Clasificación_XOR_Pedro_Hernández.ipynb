{
 "cells": [
  {
   "cell_type": "markdown",
   "metadata": {},
   "source": [
    "###Modelo de Red Neuronal para clasificación con función XOR"
   ]
  },
  {
   "cell_type": "code",
   "execution_count": 156,
   "metadata": {
    "collapsed": true
   },
   "outputs": [],
   "source": [
    "from pybrain.tools.shortcuts import buildNetwork\n",
    "from pybrain.datasets import SupervisedDataSet\n",
    "from pybrain.supervised.trainers import BackpropTrainer\n",
    "from sklearn.cross_validation import train_test_split\n",
    "import pandas as pd\n",
    "import matplotlib.pyplot as plt\n",
    "import numpy as np\n",
    "import random\n",
    "%matplotlib inline"
   ]
  },
  {
   "cell_type": "markdown",
   "metadata": {},
   "source": [
    "#### 1) Se definen la funcion de clasificación XOR y generamos sets de datos"
   ]
  },
  {
   "cell_type": "code",
   "execution_count": 120,
   "metadata": {
    "collapsed": true
   },
   "outputs": [],
   "source": [
    "fn_xor = pd.DataFrame(np.array([[0,0,0],[0,1,1],[1,0,1],[1,1,0]]),columns=[\"X1\",\"X2\",\"Y\"])"
   ]
  },
  {
   "cell_type": "code",
   "execution_count": 157,
   "metadata": {
    "collapsed": false
   },
   "outputs": [
    {
     "name": "stdout",
     "output_type": "stream",
     "text": [
      "   X1  X2  Y\n",
      "0   0   0  0\n",
      "1   0   1  1\n",
      "2   1   0  1\n",
      "3   1   1  0\n",
      "4   0   0  0\n",
      "              X1         X2          Y\n",
      "count  404.00000  404.00000  404.00000\n",
      "mean     0.50000    0.50000    0.50000\n",
      "std      0.50062    0.50062    0.50062\n",
      "min      0.00000    0.00000    0.00000\n",
      "25%      0.00000    0.00000    0.00000\n",
      "50%      0.50000    0.50000    0.50000\n",
      "75%      1.00000    1.00000    1.00000\n",
      "max      1.00000    1.00000    1.00000\n"
     ]
    }
   ],
   "source": [
    "data = fn_xor\n",
    "for i in range(100):\n",
    "   data = data.append(fn_xor)\n",
    "data = data.reset_index(drop=True)\n",
    "print(data.head())\n",
    "print(data.describe())"
   ]
  },
  {
   "cell_type": "markdown",
   "metadata": {},
   "source": [
    "####2) Separamos porcentaje de entrenamiento y visualizamos"
   ]
  },
  {
   "cell_type": "code",
   "execution_count": 158,
   "metadata": {
    "collapsed": false
   },
   "outputs": [
    {
     "name": "stdout",
     "output_type": "stream",
     "text": [
      "303 101\n"
     ]
    }
   ],
   "source": [
    "X_train, X_test, Y_train, Y_test = train_test_split(data[[\"X1\",\"X2\"]],data[[\"Y\"]], train_size=0.75)\n",
    "print len(X_train), len(X_test)"
   ]
  },
  {
   "cell_type": "code",
   "execution_count": 145,
   "metadata": {
    "collapsed": false
   },
   "outputs": [
    {
     "data": {
      "image/png": "[encoded data removed]",
      "text/plain": [
       "<matplotlib.figure.Figure at 0x10db6cad0>"
      ]
     },
     "metadata": {},
     "output_type": "display_data"
    }
   ],
   "source": [
    "plt.scatter(X_train.iloc[:,0], X_train.iloc[:,1], \n",
    "            color=['black' if i==0 else 'gold' for i in Y_train.iloc[:,0]] )\n",
    "plt.grid()"
   ]
  },
  {
   "cell_type": "markdown",
   "metadata": {},
   "source": [
    "####3) Definimos una topología para la red"
   ]
  },
  {
   "cell_type": "code",
   "execution_count": 146,
   "metadata": {
    "collapsed": true
   },
   "outputs": [],
   "source": [
    "# Neuronas en capa entrada, cuantas neuronas en capa intermedia, capa final\n",
    "net = buildNetwork(2, 3, 1)\n",
    "ds = SupervisedDataSet(2, 1)"
   ]
  },
  {
   "cell_type": "code",
   "execution_count": 147,
   "metadata": {
    "collapsed": true
   },
   "outputs": [],
   "source": [
    "ds.setField('input', X_train[[\"X1\",\"X2\"]])\n",
    "ds.setField('target', Y_train[[\"Y\"]])"
   ]
  },
  {
   "cell_type": "code",
   "execution_count": 148,
   "metadata": {
    "collapsed": false
   },
   "outputs": [
    {
     "data": {
      "image/png": "[encoded data removed]",
      "text/plain": [
       "<matplotlib.figure.Figure at 0x1084b1f50>"
      ]
     },
     "metadata": {},
     "output_type": "display_data"
    }
   ],
   "source": [
    "plt.scatter(ds['input'][:,0], ds['input'][:,1],\n",
    "            color=['black' if i==1 else 'gold' for i in ds['target']])\n",
    "plt.grid()"
   ]
  },
  {
   "cell_type": "markdown",
   "metadata": {},
   "source": [
    "####4) Se entrena la red con el método backpropagation"
   ]
  },
  {
   "cell_type": "code",
   "execution_count": 149,
   "metadata": {
    "collapsed": false
   },
   "outputs": [
    {
     "name": "stdout",
     "output_type": "stream",
     "text": [
      "entrenó\n"
     ]
    }
   ],
   "source": [
    "entrena=500\n",
    "trainer = BackpropTrainer(net,ds) \n",
    "for i in range(entrena):\n",
    "    trainer.train()\n",
    "print(\"entrenó\")"
   ]
  },
  {
   "cell_type": "markdown",
   "metadata": {},
   "source": [
    "#### 5) Visualización de clasificación con red neuronal"
   ]
  },
  {
   "cell_type": "code",
   "execution_count": 115,
   "metadata": {
    "collapsed": true
   },
   "outputs": [],
   "source": [
    "cm = plt.cm.get_cmap('afmhot')\n",
    "x1t = np.arange(-4.01,4.00,0.01) \n",
    "x2t = []\n",
    "x3t = []\n",
    "z = []"
   ]
  },
  {
   "cell_type": "code",
   "execution_count": 116,
   "metadata": {
    "collapsed": true
   },
   "outputs": [],
   "source": [
    "for i in range(len(x1t)):\n",
    "    for j in range(len(x1t)):\n",
    "        x2t.append(x1t[i])\n",
    "        x3t.append(x1t[(len(x1t)-1)-j])\n",
    "        xtemp = [x1t[i],x1t[(len(x1t)-1)-j]]\n",
    "        z.append(net.activate(xtemp))"
   ]
  },
  {
   "cell_type": "code",
   "execution_count": 155,
   "metadata": {
    "collapsed": false
   },
   "outputs": [
    {
     "data": {
      "image/png": "[encoded data removed]",
      "text/plain": [
       "<matplotlib.figure.Figure at 0x11b771b90>"
      ]
     },
     "metadata": {},
     "output_type": "display_data"
    }
   ],
   "source": [
    "sc = plt.scatter(x2t, x3t, c=z, vmin=0, vmax=1, s=30, cmap=cm, edgecolors='none')\n",
    "plt.colorbar(sc)\n",
    "plt.show()"
   ]
  }
 ],
 "metadata": {
  "kernelspec": {
   "display_name": "Python 2",
   "language": "python",
   "name": "python2"
  },
  "language_info": {
   "codemirror_mode": {
    "name": "ipython",
    "version": 2
   },
   "file_extension": ".py",
   "mimetype": "text/x-python",
   "name": "python",
   "nbconvert_exporter": "python",
   "pygments_lexer": "ipython2",
   "version": "2.7.10"
  }
 },
 "nbformat": 4,
 "nbformat_minor": 0
}
