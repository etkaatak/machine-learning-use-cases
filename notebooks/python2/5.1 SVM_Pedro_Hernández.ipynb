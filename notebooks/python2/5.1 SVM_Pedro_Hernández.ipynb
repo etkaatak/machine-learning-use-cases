{
 "cells": [
  {
   "cell_type": "markdown",
   "metadata": {
    "collapsed": true
   },
   "source": [
    "###Máquina de soporte vectorial para clasificación"
   ]
  },
  {
   "cell_type": "code",
   "execution_count": 3,
   "metadata": {
    "collapsed": true
   },
   "outputs": [],
   "source": [
    "import numpy as np\n",
    "import pandas as pd\n",
    "import matplotlib.pyplot as plt\n",
    "from sklearn import svm\n",
    "from sklearn.cross_validation import train_test_split\n",
    "from sklearn.utils import column_or_1d\n",
    "%matplotlib inline"
   ]
  },
  {
   "cell_type": "markdown",
   "metadata": {},
   "source": [
    "#### 1) Se cargan el set de datos y se asigna el porcentaje de entrenamiento"
   ]
  },
  {
   "cell_type": "code",
   "execution_count": 4,
   "metadata": {
    "collapsed": false
   },
   "outputs": [
    {
     "name": "stdout",
     "output_type": "stream",
     "text": [
      "   X1  X2  y\n",
      "0   0   0  0\n",
      "1   0   1  0\n",
      "2   1   0  0\n",
      "3   1   1  1\n",
      "4   2   3  1\n",
      "              X1         X2          y\n",
      "count  81.000000  81.000000  81.000000\n",
      "mean    1.893407   1.889708   0.950617\n",
      "std     0.508662   0.563512   0.218016\n",
      "min     0.000000  -1.000000   0.000000\n",
      "25%     1.686158   1.671415   1.000000\n",
      "50%     1.963705   1.935736   1.000000\n",
      "75%     2.252322   2.245784   1.000000\n",
      "max     3.000000   3.000000   1.000000\n"
     ]
    }
   ],
   "source": [
    "data = pd.read_csv(\"andSVM.csv\")\n",
    "print(data.head())\n",
    "print(data.describe())"
   ]
  },
  {
   "cell_type": "code",
   "execution_count": 5,
   "metadata": {
    "collapsed": false
   },
   "outputs": [
    {
     "name": "stdout",
     "output_type": "stream",
     "text": [
      "60 21\n"
     ]
    }
   ],
   "source": [
    "X_train, X_test, Y_train, Y_test = train_test_split(data[[\"X1\",\"X2\"]],data[[\"y\"]],train_size=0.75)\n",
    "print len(X_train), len(X_test)"
   ]
  },
  {
   "cell_type": "markdown",
   "metadata": {},
   "source": [
    "#### 2) Transformación de los datos"
   ]
  },
  {
   "cell_type": "code",
   "execution_count": 6,
   "metadata": {
    "collapsed": false
   },
   "outputs": [],
   "source": [
    "X_train1=np.asarray(X_train['X1'])\n",
    "X_train2=np.asarray(X_train['X2'])"
   ]
  },
  {
   "cell_type": "code",
   "execution_count": 7,
   "metadata": {
    "collapsed": false
   },
   "outputs": [],
   "source": [
    "Y_train2 = column_or_1d(Y_train)"
   ]
  },
  {
   "cell_type": "markdown",
   "metadata": {},
   "source": [
    "#### 3) Se define el kernel para el SVM y se ajusta el modelo"
   ]
  },
  {
   "cell_type": "code",
   "execution_count": 8,
   "metadata": {
    "collapsed": false
   },
   "outputs": [
    {
     "data": {
      "text/plain": [
       "SVC(C=1.0, cache_size=200, class_weight=None, coef0=0.0, degree=3, gamma=0.0,\n",
       "  kernel='linear', max_iter=-1, probability=False, random_state=None,\n",
       "  shrinking=True, tol=0.001, verbose=False)"
      ]
     },
     "execution_count": 8,
     "metadata": {},
     "output_type": "execute_result"
    }
   ],
   "source": [
    "clf = svm.SVC(kernel='linear')\n",
    "clf.fit(X_train, Y_train2)"
   ]
  },
  {
   "cell_type": "markdown",
   "metadata": {},
   "source": [
    "####4) Valores de coeficientes y cálculo del umbral de hyperplano"
   ]
  },
  {
   "cell_type": "code",
   "execution_count": 9,
   "metadata": {
    "collapsed": false
   },
   "outputs": [
    {
     "name": "stdout",
     "output_type": "stream",
     "text": [
      "(-1.9727452275390214, array([ 0.97304447,  0.97304449]), -0.99999998599334072, array([ 3.02739468,  2.94576202,  2.86412937,  2.78249672,  2.70086407,\n",
      "        2.61923142,  2.53759876,  2.45596611,  2.37433346,  2.29270081,\n",
      "        2.21106816,  2.1294355 ,  2.04780285,  1.9661702 ,  1.88453755,\n",
      "        1.8029049 ,  1.72127225,  1.63963959,  1.55800694,  1.47637429,\n",
      "        1.39474164,  1.31310899,  1.23147633,  1.14984368,  1.06821103,\n",
      "        0.98657838,  0.90494573,  0.82331307,  0.74168042,  0.66004777,\n",
      "        0.57841512,  0.49678247,  0.41514981,  0.33351716,  0.25188451,\n",
      "        0.17025186,  0.08861921,  0.00698655, -0.0746461 , -0.15627875,\n",
      "       -0.2379114 , -0.31954405, -0.4011767 , -0.48280936, -0.56444201,\n",
      "       -0.64607466, -0.72770731, -0.80933996, -0.89097262, -0.97260527]))\n"
     ]
    }
   ],
   "source": [
    "w = clf.coef_[0]\n",
    "w0 = (clf.intercept_[0])\n",
    "soporte = -w[0] / w[1]\n",
    "x = np.linspace(-1, 3)\n",
    "umbral = x * soporte - w0 / w[1]\n",
    "print(w0, w, soporte, umbral)"
   ]
  },
  {
   "cell_type": "code",
   "execution_count": 10,
   "metadata": {
    "collapsed": false
   },
   "outputs": [
    {
     "data": {
      "text/plain": [
       "array([ 0.97304447,  0.97304449])"
      ]
     },
     "execution_count": 10,
     "metadata": {},
     "output_type": "execute_result"
    }
   ],
   "source": [
    "clf.coef_[0]"
   ]
  },
  {
   "cell_type": "code",
   "execution_count": 11,
   "metadata": {
    "collapsed": false
   },
   "outputs": [
    {
     "data": {
      "text/plain": [
       "-0.99999998599334072"
      ]
     },
     "execution_count": 11,
     "metadata": {},
     "output_type": "execute_result"
    }
   ],
   "source": [
    "soporte"
   ]
  },
  {
   "cell_type": "markdown",
   "metadata": {},
   "source": [
    "#### 5) Visualización de clasificación multidimensional con SVM kernel lineal"
   ]
  },
  {
   "cell_type": "code",
   "execution_count": 15,
   "metadata": {
    "collapsed": false
   },
   "outputs": [],
   "source": [
    "soporte_down = clf.support_vectors_[0]\n",
    "umbral_down = soporte * x + (soporte_down[1] - soporte * soporte_down[0])\n",
    "soporte_up = clf.support_vectors_[-1]\n",
    "umbral_up = soporte * x + (soporte_up[1] - soporte * soporte_up[0])"
   ]
  },
  {
   "cell_type": "code",
   "execution_count": 35,
   "metadata": {
    "collapsed": false
   },
   "outputs": [
    {
     "data": {
      "image/png": "[encoded data removed]",
      "text/plain": [
       "<matplotlib.figure.Figure at 0x109a7cbd0>"
      ]
     },
     "metadata": {},
     "output_type": "display_data"
    }
   ],
   "source": [
    "plt.plot(x, umbral, 'k-', color='orange')\n",
    "plt.plot(x, umbral_down, 'k--', color='orange')\n",
    "plt.plot(x, umbral_up, 'k--', color='orange')\n",
    "plt.scatter(clf.support_vectors_[:, 0], clf.support_vectors_[:, 1],\n",
    "            s=80, facecolors='none')\n",
    "plt.scatter(X_train1,X_train2, c=Y_train2, edgecolors='none', s=30)\n",
    "plt.grid()"
   ]
  },
  {
   "cell_type": "code",
   "execution_count": null,
   "metadata": {
    "collapsed": true
   },
   "outputs": [],
   "source": []
  }
 ],
 "metadata": {
  "kernelspec": {
   "display_name": "Python 2",
   "language": "python",
   "name": "python2"
  },
  "language_info": {
   "codemirror_mode": {
    "name": "ipython",
    "version": 2
   },
   "file_extension": ".py",
   "mimetype": "text/x-python",
   "name": "python",
   "nbconvert_exporter": "python",
   "pygments_lexer": "ipython2",
   "version": "2.7.10"
  }
 },
 "nbformat": 4,
 "nbformat_minor": 0
}
