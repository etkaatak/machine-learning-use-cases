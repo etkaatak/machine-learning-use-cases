{
 "cells": [
  {
   "cell_type": "code",
   "execution_count": 26,
   "metadata": {
    "collapsed": false
   },
   "outputs": [],
   "source": [
    "import numpy\n",
    "import matplotlib\n",
    "#matplotlib.use('Agg')\n",
    "from scipy.cluster.vq import *\n",
    "import pylab\n",
    "pylab.close()\n",
    "import matplotlib.pyplot as plt\n",
    "%matplotlib inline"
   ]
  },
  {
   "cell_type": "code",
   "execution_count": 4,
   "metadata": {
    "collapsed": false
   },
   "outputs": [],
   "source": [
    "import os\n",
    "import graphlab as gl\n",
    "\n",
    "if os.path.exists('schizophrenia_clean'):\n",
    "    sf = gl.SFrame('schizophrenia_clean')\n",
    "else:\n",
    "    sf_functional = gl.SFrame.read_csv(\n",
    "        'http://s3.amazonaws.com/dato-datasets/mlsp_2014/train_FNC.csv')\n",
    "    sf_morphometry = gl.SFrame.read_csv(\n",
    "        'http://s3.amazonaws.com/dato-datasets/mlsp_2014/train_SBM.csv')\n",
    "\n",
    "    sf = sf_functional.join(sf_morphometry, on=\"Id\")\n",
    "    sf = sf.remove_column('Id')   \n",
    "\n",
    "    sf.save('schizophrenia_clean')"
   ]
  },
  {
   "cell_type": "code",
   "execution_count": 8,
   "metadata": {
    "collapsed": false
   },
   "outputs": [
    {
     "name": "stdout",
     "output_type": "stream",
     "text": [
      "+----------+----------+----------+----------+-----------+------------+-----------+\n",
      "|   FNC1   |   FNC2   |   FNC3   |   FNC4   |    FNC5   |    FNC6    |    FNC7   |\n",
      "+----------+----------+----------+----------+-----------+------------+-----------+\n",
      "| 0.34312  | 0.045761 | -0.13112 | 0.15034  |  0.18082  |  0.28916   |  0.069545 |\n",
      "|  0.2879  | 0.10257  | -0.32343 | -0.22776 |  0.12328  |  0.36702   |  -0.08404 |\n",
      "| 0.24585  | 0.21662  | -0.12468 | -0.3538  |   0.1615  | -0.0020318 |  -0.13302 |\n",
      "|  0.4209  | 0.33138  | 0.24453  | 0.17167  |  0.59223  |  0.43105   |  0.28029  |\n",
      "| -0.14621 | -0.46863 | -0.5288  | -0.50381 |  -0.51052 | -0.029113  | -0.015192 |\n",
      "| 0.55836  | 0.35646  | 0.35729  | 0.28911  |   0.2762  |  0.44263   |  0.31844  |\n",
      "|  0.113   | -0.43457 | -0.71167 | -0.70187 |  0.12693  |  -0.39747  |  -0.47699 |\n",
      "| 0.40232  | 0.06261  | 0.36089  | 0.18163  |  0.41605  |  -0.26195  |  0.033917 |\n",
      "| -0.18005 | -0.43638 | -0.73401 | -0.77518 |  -0.50201 |   0.1553   |  -0.6134  |\n",
      "| 0.075604 | -0.12163 | -0.2227  | -0.21205 | -0.093002 |  0.086645  |   -0.163  |\n",
      "+----------+----------+----------+----------+-----------+------------+-----------+\n",
      "+-----------+------------+-----------+-----------+-----------+-----------+\n",
      "|    FNC8   |    FNC9    |   FNC10   |   FNC11   |   FNC12   |   FNC13   |\n",
      "+-----------+------------+-----------+-----------+-----------+-----------+\n",
      "| -0.052489 |   0.124    |  0.47762  |  0.16525  |  0.15274  |  0.27049  |\n",
      "|  0.038793 | -0.0062872 |  0.10169  |  -0.37634 |  0.14264  | -0.088119 |\n",
      "| -0.035222 |  0.25904   | -0.045302 | -0.027871 |  0.42424  |  -0.36102 |\n",
      "|  0.28962  |   0.3568   |  0.28634  |  0.04855  | -0.080789 | -0.060777 |\n",
      "|  0.36017  | 0.0059443  |  0.024801 | -0.031034 |  0.55915  |  0.048705 |\n",
      "|  -0.11029 |  0.30212   |  0.055681 |  0.071205 |   0.1231  | 0.0055682 |\n",
      "|   0.3121  |  0.28761   |  0.24793  |  -0.58607 |  0.58471  |  0.053612 |\n",
      "|  0.36813  |  0.30383   |  0.39118  |   0.4287  |  -0.09704 | -0.067326 |\n",
      "|  0.25806  |  0.58335   |  0.49175  |  -0.6489  |  0.85355  |  0.37161  |\n",
      "|  0.14211  |  0.11746   |  0.24046  |  0.14948  |  0.057052 |  -0.51263 |\n",
      "+-----------+------------+-----------+-----------+-----------+-----------+\n",
      "+-----------+-----------+----------+-----------+-----------+----------+\n",
      "|   FNC14   |   FNC15   |  FNC16   |   FNC17   |   FNC18   |  FNC19   |\n",
      "+-----------+-----------+----------+-----------+-----------+----------+\n",
      "| -0.023773 |  0.057374 | -0.13873 |  0.24606  | -0.036653 | 0.055729 |\n",
      "| -0.056629 |  -0.47997 | 0.25017  |  0.20565  |  0.10091  | 0.09071  |\n",
      "|  -0.25664 |  0.013372 | 0.24679  |  0.06869  |  0.12281  | -0.49107 |\n",
      "|  0.26004  |  0.15473  |  0.1613  |  0.21598  |  0.15308  | 0.50373  |\n",
      "|  0.15608  | 0.0086781 | 0.62856  |  0.55702  |  0.19112  | 0.040825 |\n",
      "|  -0.24409 |  0.040485 | 0.21587  |  0.43641  |  0.31318  | 0.014873 |\n",
      "|  0.10562  |  -0.36746 | 0.19058  |  -0.23131 |  0.29687  | -0.22969 |\n",
      "|  0.38474  |  0.40861  | 0.43432  | -0.098095 |   0.5221  |  0.0269  |\n",
      "|  0.22384  |  -0.15925 | 0.46401  |   0.4726  |  0.73041  | -0.58598 |\n",
      "|   0.3084  |  0.11961  | 0.46647  |  0.023333 |  0.43737  | 0.087178 |\n",
      "+-----------+-----------+----------+-----------+-----------+----------+\n",
      "+-----------+-----+\n",
      "|   FNC20   | ... |\n",
      "+-----------+-----+\n",
      "|  0.19554  | ... |\n",
      "| -0.041637 | ... |\n",
      "| -0.016317 | ... |\n",
      "|   0.1489  | ... |\n",
      "|  0.37306  | ... |\n",
      "|  0.64977  | ... |\n",
      "|  0.32334  | ... |\n",
      "|  -0.09647 | ... |\n",
      "|  0.43601  | ... |\n",
      "|  -0.14665 | ... |\n",
      "+-----------+-----+\n",
      "[10 rows x 410 columns]\n",
      "\n"
     ]
    }
   ],
   "source": [
    "train, test = sf.random_split(0.8)\n",
    "print train.head()"
   ]
  },
  {
   "cell_type": "code",
   "execution_count": 5,
   "metadata": {
    "collapsed": false
   },
   "outputs": [
    {
     "name": "stdout",
     "output_type": "stream",
     "text": [
      "PROGRESS: Initializing data.\n",
      "PROGRESS: Batch size is larger than the input dataset. Switching to an exact Kmeans method.\n",
      "PROGRESS: Choosing initial cluster centers with Kmeans++.\n",
      "PROGRESS: +---------------+-----------+\n",
      "PROGRESS: | Center number | Row index |\n",
      "PROGRESS: +---------------+-----------+\n",
      "PROGRESS: | 0             | 16        |\n",
      "PROGRESS: | 1             | 58        |\n",
      "PROGRESS: | 2             | 1         |\n",
      "PROGRESS: | 3             | 15        |\n",
      "PROGRESS: +---------------+-----------+\n",
      "PROGRESS: Starting kmeans model training.\n",
      "PROGRESS: Assigning points to initial cluster centers.\n",
      "PROGRESS: +-----------+-------------------------------+\n",
      "PROGRESS: | Iteration | Number of changed assignments |\n",
      "PROGRESS: +-----------+-------------------------------+\n",
      "PROGRESS: | 1         | 3                             |\n",
      "PROGRESS: | 2         | 1                             |\n",
      "PROGRESS: | 3         | 1                             |\n",
      "PROGRESS: | 4         | 0                             |\n",
      "PROGRESS: +-----------+-------------------------------+\n"
     ]
    }
   ],
   "source": [
    "from math import sqrt\n",
    "K = int(sqrt(len(xy)/2.0))\n",
    "kmeans_model = gl.kmeans.create(train, num_clusters=K)"
   ]
  },
  {
   "cell_type": "code",
   "execution_count": 9,
   "metadata": {
    "collapsed": false
   },
   "outputs": [
    {
     "data": {
      "application/javascript": [
       "$(\"head\").append($(\"<link/>\").attr({\n",
       "  rel:  \"stylesheet\",\n",
       "  type: \"text/css\",\n",
       "  href: \"//cdnjs.cloudflare.com/ajax/libs/font-awesome/4.1.0/css/font-awesome.min.css\"\n",
       "}));\n",
       "$(\"head\").append($(\"<link/>\").attr({\n",
       "  rel:  \"stylesheet\",\n",
       "  type: \"text/css\",\n",
       "  href: \"//dato.com/files/canvas/1.6.1/css/canvas.css\"\n",
       "}));\n",
       "\n",
       "            (function(){\n",
       "\n",
       "                var e = null;\n",
       "                if (typeof element == 'undefined') {\n",
       "                    var scripts = document.getElementsByTagName('script');\n",
       "                    var thisScriptTag = scripts[scripts.length-1];\n",
       "                    var parentDiv = thisScriptTag.parentNode;\n",
       "                    e = document.createElement('div');\n",
       "                    parentDiv.appendChild(e);\n",
       "                } else {\n",
       "                    e = element[0];\n",
       "                }\n",
       "\n",
       "                if (typeof requirejs !== 'undefined') {\n",
       "                    // disable load timeout; ipython_app.js is large and can take a while to load.\n",
       "                    requirejs.config({waitSeconds: 0});\n",
       "                }\n",
       "\n",
       "                require(['//dato.com/files/canvas/1.6.1/js/ipython_app.js'], function(IPythonApp){\n",
       "                    var app = new IPythonApp();\n",
       "                    app.attachView('model','Summary', {\"comparison\": null, \"selected_variable\": {\"comparison\": null, \"name\": [\"kmeans_model\"], \"view_file\": \"model\", \"view_component\": \"Summary\", \"view_params\": {\"model_type\": \"base\", \"view\": \"Summary\"}, \"view_components\": [\"Summary\", \"Evaluation\", \"Comparison\"], \"model_type\": \"base\", \"attributes\": {\"section_titles\": [\"Schema\", \"Training Summary\"], \"sections\": [[[\"Number of clusters\", 4], [\"Number of examples\", 68], [\"Number of feature columns\", 410], [\"Number of unpacked features\", 410]], [[\"Training method\", \"elkan\"], [\"Number of training iterations\", 4], [\"Batch size\", 68], [\"Total training time (seconds)\", 2.5495]]]}, \"evaluations\": [], \"type\": \"Model\"}, \"ipython\": true, \"view_params\": {\"model_type\": \"base\", \"view\": \"Summary\"}, \"model_type\": \"base\", \"attributes\": {\"section_titles\": [\"Schema\", \"Training Summary\"], \"sections\": [[[\"Number of clusters\", 4], [\"Number of examples\", 68], [\"Number of feature columns\", 410], [\"Number of unpacked features\", 410]], [[\"Training method\", \"elkan\"], [\"Number of training iterations\", 4], [\"Batch size\", 68], [\"Total training time (seconds)\", 2.5495]]]}, \"evaluations\": []}, e);\n",
       "                });\n",
       "            })();\n",
       "        "
      ]
     },
     "metadata": {},
     "output_type": "display_data"
    }
   ],
   "source": [
    "gl.canvas.set_target('ipynb')\n",
    "kmeans_model.show()"
   ]
  },
  {
   "cell_type": "code",
   "execution_count": 10,
   "metadata": {
    "collapsed": false
   },
   "outputs": [
    {
     "data": {
      "text/html": [
       "<div style=\"max-height:1000px;max-width:1500px;overflow:auto;\"><table frame=\"box\" rules=\"cols\">\n",
       "    <tr>\n",
       "        <th style=\"padding-left: 1em; padding-right: 1em; text-align: center\">cluster_id</th>\n",
       "        <th style=\"padding-left: 1em; padding-right: 1em; text-align: center\">size</th>\n",
       "        <th style=\"padding-left: 1em; padding-right: 1em; text-align: center\">sum_squared_distance</th>\n",
       "    </tr>\n",
       "    <tr>\n",
       "        <td style=\"padding-left: 1em; padding-right: 1em; text-align: center; vertical-align: top\">0</td>\n",
       "        <td style=\"padding-left: 1em; padding-right: 1em; text-align: center; vertical-align: top\">28</td>\n",
       "        <td style=\"padding-left: 1em; padding-right: 1em; text-align: center; vertical-align: top\">1545.03027344</td>\n",
       "    </tr>\n",
       "    <tr>\n",
       "        <td style=\"padding-left: 1em; padding-right: 1em; text-align: center; vertical-align: top\">1</td>\n",
       "        <td style=\"padding-left: 1em; padding-right: 1em; text-align: center; vertical-align: top\">21</td>\n",
       "        <td style=\"padding-left: 1em; padding-right: 1em; text-align: center; vertical-align: top\">1147.95669556</td>\n",
       "    </tr>\n",
       "    <tr>\n",
       "        <td style=\"padding-left: 1em; padding-right: 1em; text-align: center; vertical-align: top\">2</td>\n",
       "        <td style=\"padding-left: 1em; padding-right: 1em; text-align: center; vertical-align: top\">14</td>\n",
       "        <td style=\"padding-left: 1em; padding-right: 1em; text-align: center; vertical-align: top\">719.954227448</td>\n",
       "    </tr>\n",
       "    <tr>\n",
       "        <td style=\"padding-left: 1em; padding-right: 1em; text-align: center; vertical-align: top\">3</td>\n",
       "        <td style=\"padding-left: 1em; padding-right: 1em; text-align: center; vertical-align: top\">5</td>\n",
       "        <td style=\"padding-left: 1em; padding-right: 1em; text-align: center; vertical-align: top\">279.447463989</td>\n",
       "    </tr>\n",
       "</table>\n",
       "[4 rows x 3 columns]<br/>\n",
       "</div>"
      ],
      "text/plain": [
       "Columns:\n",
       "\tcluster_id\tint\n",
       "\tsize\tint\n",
       "\tsum_squared_distance\tfloat\n",
       "\n",
       "Rows: 4\n",
       "\n",
       "Data:\n",
       "+------------+------+----------------------+\n",
       "| cluster_id | size | sum_squared_distance |\n",
       "+------------+------+----------------------+\n",
       "|     0      |  28  |    1545.03027344     |\n",
       "|     1      |  21  |    1147.95669556     |\n",
       "|     2      |  14  |    719.954227448     |\n",
       "|     3      |  5   |    279.447463989     |\n",
       "+------------+------+----------------------+\n",
       "[4 rows x 3 columns]"
      ]
     },
     "execution_count": 10,
     "metadata": {},
     "output_type": "execute_result"
    }
   ],
   "source": [
    "kmeans_model['cluster_info'][['cluster_id', 'size', 'sum_squared_distance']]"
   ]
  },
  {
   "cell_type": "code",
   "execution_count": 81,
   "metadata": {
    "collapsed": true
   },
   "outputs": [],
   "source": [
    "# generate 3 sets of normally distributed points around\n",
    "# different means with different variances\n",
    "pt1 = numpy.random.normal(1, 0.2, (1000,2))\n",
    "pt2 = numpy.random.normal(2, 0.5, (3000,2))\n",
    "pt3 = numpy.random.normal(3, 0.3, (1000,2))"
   ]
  },
  {
   "cell_type": "code",
   "execution_count": 76,
   "metadata": {
    "collapsed": true
   },
   "outputs": [],
   "source": [
    "# slightly move sets 2 and 3 (for a prettier output)\n",
    "pt2[:,0] += 2 #1\n",
    "pt3[:,0] -= 2.5 #0.5"
   ]
  },
  {
   "cell_type": "code",
   "execution_count": 82,
   "metadata": {
    "collapsed": false
   },
   "outputs": [],
   "source": [
    "xy = numpy.concatenate((pt1, pt2, pt3))"
   ]
  },
  {
   "cell_type": "code",
   "execution_count": 90,
   "metadata": {
    "collapsed": false
   },
   "outputs": [],
   "source": [
    "from math import sqrt\n",
    "K = int(sqrt(len(xy)/2.0))"
   ]
  },
  {
   "cell_type": "code",
   "execution_count": 83,
   "metadata": {
    "collapsed": false
   },
   "outputs": [],
   "source": [
    "# kmeans for 3 clusters (centros, cluster )\n",
    "res, idx = kmeans2(numpy.array(zip(xy[:,0],xy[:,1])),K)"
   ]
  },
  {
   "cell_type": "code",
   "execution_count": 84,
   "metadata": {
    "collapsed": false
   },
   "outputs": [],
   "source": [
    "#colors = ([([0.4,1,0.4],[1,0.4,0.4],[0.1,0.8,1],[1,1,0])[i] for i in idx])\n",
    "colors = ([([0.4,1,0.4],[1,0.4,0.4],[0.1,0.8,1],[1,1,0],\n",
    "           [0.4,1,1],[1,0.9,0.9],[0.1,0.5,1],[.8,1,0])\n",
    "           [i] for i in idx])"
   ]
  },
  {
   "cell_type": "code",
   "execution_count": 85,
   "metadata": {
    "collapsed": false
   },
   "outputs": [
    {
     "data": {
      "text/plain": [
       "<matplotlib.collections.PathCollection at 0x14789c50>"
      ]
     },
     "execution_count": 85,
     "metadata": {},
     "output_type": "execute_result"
    },
    {
     "data": {
      "image/png": "[encoded data removed]",
      "text/plain": [
       "<matplotlib.figure.Figure at 0x13ea8eb8>"
      ]
     },
     "metadata": {},
     "output_type": "display_data"
    }
   ],
   "source": [
    "plt.scatter(xy[:,0],xy[:,1], c=colors, edgecolors='none')\n",
    "plt.scatter(res[:,0],res[:,1], marker='o', s = 500, linewidths=2, c='none')"
   ]
  },
  {
   "cell_type": "code",
   "execution_count": null,
   "metadata": {
    "collapsed": true
   },
   "outputs": [],
   "source": []
  }
 ],
 "metadata": {
  "kernelspec": {
   "display_name": "Python 2",
   "language": "python",
   "name": "python2"
  },
  "language_info": {
   "codemirror_mode": {
    "name": "ipython",
    "version": 2
   },
   "file_extension": ".py",
   "mimetype": "text/x-python",
   "name": "python",
   "nbconvert_exporter": "python",
   "pygments_lexer": "ipython2",
   "version": "2.7.10"
  }
 },
 "nbformat": 4,
 "nbformat_minor": 0
}
